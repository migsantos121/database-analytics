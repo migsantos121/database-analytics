{
 "cells": [
  {
   "cell_type": "markdown",
   "metadata": {},
   "source": [
    "## This notebook retrieves the weather data of a town/city (input by user)"
   ]
  },
  {
   "cell_type": "code",
   "execution_count": 2,
   "metadata": {},
   "outputs": [],
   "source": [
    "import urllib.request, urllib.parse, urllib.error\n",
    "import json"
   ]
  },
  {
   "cell_type": "markdown",
   "metadata": {},
   "source": [
    "### Gets the secret API key (you have to get one from Openweather website and use) from a JSON file, stored in the same folder"
   ]
  },
  {
   "cell_type": "code",
   "execution_count": 3,
   "metadata": {},
   "outputs": [],
   "source": [
    "with open('APIkeys.json') as f:\n",
    "    keys = json.load(f)\n",
    "    weatherapi = keys['weatherapi']"
   ]
  },
  {
   "cell_type": "code",
   "execution_count": 4,
   "metadata": {},
   "outputs": [],
   "source": [
    "serviceurl = 'http://api.openweathermap.org/data/2.5/weather?'\n",
    "apikey = 'APPID='+weatherapi"
   ]
  },
  {
   "cell_type": "markdown",
   "metadata": {},
   "source": [
    "### Runs a loop of getting address input from user and prints basic weather data"
   ]
  },
  {
   "cell_type": "code",
   "execution_count": 9,
   "metadata": {},
   "outputs": [
    {
     "name": "stdout",
     "output_type": "stream",
     "text": [
      "Enter the name of a town (enter 'quit' or hit ENTER to quit): New York\n",
      "Retrieving the weather data of New York now... \n",
      "\n",
      "Right now New York has mist. Main weather parameters are as follows\n",
      "----------------------------------------------------------------------\n",
      "Pressure: 992.19 mbar/30.15013 inch Hg\n",
      "Humidity: 93%\n",
      "Temperature: 6.06 degree C\n",
      "Enter the name of a town (enter 'quit' or hit ENTER to quit): \n"
     ]
    }
   ],
   "source": [
    "while True:\n",
    "    address = input('Enter the name of a town (enter \\'quit\\' or hit ENTER to quit): ')\n",
    "    if len(address) < 1 or address=='quit': break\n",
    "\n",
    "    url = serviceurl + urllib.parse.urlencode({'q': address})+'&'+apikey\n",
    "    print(f'Retrieving the weather data of {address} now... ')\n",
    "    uh = urllib.request.urlopen(url)\n",
    "    \n",
    "    data = uh.read()\n",
    "    json_data=json.loads(data)\n",
    "    \n",
    "    main=json_data['main']\n",
    "    description = json_data['weather'][-1]['description']\n",
    "    \n",
    "    pressure_mbar = main['pressure']\n",
    "    pressure_inch_Hg = pressure_mbar*0.02953\n",
    "    humidity = main['humidity']\n",
    "    temp_min = main['temp_min']-273\n",
    "    temp_max = main['temp_max']-273\n",
    "    temp = main['temp']-273\n",
    "    \n",
    "    print(f\"\\nRight now {address} has {description}. Key weather parameters are as follows\\n\"+\"-\"*70)\n",
    "    print(f\"Pressure: {pressure} mbar/{pressure_inch_Hg} inch Hg\")\n",
    "    print(f\"Humidity: {humidity}%\")\n",
    "    print(f\"Temperature: {round(temp,2)} degree C\")"
   ]
  },
  {
   "cell_type": "code",
   "execution_count": null,
   "metadata": {},
   "outputs": [],
   "source": []
  }
 ],
 "metadata": {
  "kernelspec": {
   "display_name": "Python 3",
   "language": "python",
   "name": "python3"
  },
  "language_info": {
   "codemirror_mode": {
    "name": "ipython",
    "version": 3
   },
   "file_extension": ".py",
   "mimetype": "text/x-python",
   "name": "python",
   "nbconvert_exporter": "python",
   "pygments_lexer": "ipython3",
   "version": "3.6.2"
  },
  "latex_envs": {
   "LaTeX_envs_menu_present": true,
   "autoclose": false,
   "autocomplete": true,
   "bibliofile": "biblio.bib",
   "cite_by": "apalike",
   "current_citInitial": 1,
   "eqLabelWithNumbers": true,
   "eqNumInitial": 1,
   "hotkeys": {
    "equation": "Ctrl-E",
    "itemize": "Ctrl-I"
   },
   "labels_anchors": false,
   "latex_user_defs": false,
   "report_style_numbering": false,
   "user_envs_cfg": false
  },
  "toc": {
   "nav_menu": {},
   "number_sections": true,
   "sideBar": true,
   "skip_h1_title": false,
   "title_cell": "Table of Contents",
   "title_sidebar": "Contents",
   "toc_cell": false,
   "toc_position": {},
   "toc_section_display": true,
   "toc_window_display": false
  }
 },
 "nbformat": 4,
 "nbformat_minor": 2
}
