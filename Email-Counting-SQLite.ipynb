{
 "cells": [
  {
   "cell_type": "markdown",
   "metadata": {},
   "source": [
    "### Import SQLite library of Python (it is built-in)\n",
    "* Create a connection\n",
    "* Create a cursor object"
   ]
  },
  {
   "cell_type": "code",
   "execution_count": 111,
   "metadata": {
    "collapsed": true
   },
   "outputs": [],
   "source": [
    "import sqlite3\n",
    "conn = sqlite3.connect('emaildb.sqlite')\n",
    "cur=conn.cursor()"
   ]
  },
  {
   "cell_type": "markdown",
   "metadata": {},
   "source": [
    "### Run SQL commands through the cursor\n",
    "* Drop the previous Table if it exists\n",
    "* Create a Table with email and counts as attributes"
   ]
  },
  {
   "cell_type": "code",
   "execution_count": 112,
   "metadata": {},
   "outputs": [
    {
     "data": {
      "text/plain": [
       "<sqlite3.Cursor at 0x1c77630c110>"
      ]
     },
     "execution_count": 112,
     "metadata": {},
     "output_type": "execute_result"
    }
   ],
   "source": [
    "cur.execute('DROP TABLE IF EXISTS Counts')\n",
    "cur.execute('''\n",
    "CREATE TABLE Counts (email TEXT, count INTEGER)''')"
   ]
  },
  {
   "cell_type": "markdown",
   "metadata": {},
   "source": [
    "### Use urllib method to establish a connection with a remote server to read the inbox data"
   ]
  },
  {
   "cell_type": "code",
   "execution_count": 113,
   "metadata": {},
   "outputs": [
    {
     "name": "stdout",
     "output_type": "stream",
     "text": [
      "Opening the file connection...\n"
     ]
    }
   ],
   "source": [
    "import urllib.request, urllib.parse, urllib.error\n",
    "\n",
    "print(\"Opening the file connection...\")\n",
    "# Following example reads Project Gutenberg EBook of Pride and Prejudice\n",
    "fhand = urllib.request.urlopen('http://data.pr4e.org/mbox.txt')"
   ]
  },
  {
   "cell_type": "markdown",
   "metadata": {},
   "source": [
    "### Read the text data from the remote server to create a local text file"
   ]
  },
  {
   "cell_type": "code",
   "execution_count": 114,
   "metadata": {
    "collapsed": true
   },
   "outputs": [],
   "source": [
    "txt_dump = ''\n",
    "line_count=0\n",
    "word_count=0\n",
    "# Iterate over the lines in the file handler object and dump the data into the text string. \n",
    "# Also increment line and word counts\n",
    "for line in fhand:\n",
    "# Use decode method to convert the UTF-8 to Unicode string\n",
    "    txt_dump+=line.decode()\n",
    "    line_count+=1\n",
    "    # Count the length of words in the line and add to the running count\n",
    "    word_count+=len(line.decode().split(' '))"
   ]
  },
  {
   "cell_type": "code",
   "execution_count": 115,
   "metadata": {},
   "outputs": [
    {
     "name": "stdout",
     "output_type": "stream",
     "text": [
      "Printing some info on the text dump\n",
      "------------------------------------------------------------\n",
      "Total characters: 6687002\n",
      "Total words: 630427\n",
      "Total lines: 132045\n"
     ]
    }
   ],
   "source": [
    "# Prints basic informationn about the text data\n",
    "print(\"Printing some info on the text dump\\n\"+\"-\"*60)\n",
    "print(\"Total characters:\",len(txt_dump))\n",
    "print(\"Total words:\",word_count)\n",
    "print(f\"Total lines: {line_count}\")"
   ]
  },
  {
   "cell_type": "markdown",
   "metadata": {},
   "source": [
    "### Open a local file handler with the text file"
   ]
  },
  {
   "cell_type": "code",
   "execution_count": 120,
   "metadata": {},
   "outputs": [],
   "source": [
    "file = open('mbox.txt','w') \n",
    "file.write(txt_dump)\n",
    "file.close()"
   ]
  },
  {
   "cell_type": "code",
   "execution_count": 121,
   "metadata": {},
   "outputs": [],
   "source": [
    "fh=open('mbox.txt')"
   ]
  },
  {
   "cell_type": "markdown",
   "metadata": {},
   "source": [
    "### Show first few lines of the text data"
   ]
  },
  {
   "cell_type": "code",
   "execution_count": 122,
   "metadata": {},
   "outputs": [
    {
     "name": "stdout",
     "output_type": "stream",
     "text": [
      "From stephen.marquard@uct.ac.za Sat Jan  5 09:14:16 2008\n",
      "Return-Path: <postmaster@collab.sakaiproject.org>\n",
      "Received: from murder (mail.umich.edu [141.211.14.90])\n",
      "\t by frankenstein.mail.umich.edu (Cyrus v2.3.8) with LMTPA;\n",
      "\t Sat, 05 Jan 2008 09:14:16 -0500\n",
      "X-Sieve: CMU Sieve 2.3\n",
      "Received: from murder ([unix socket])\n",
      "\t by mail.umich.edu (Cyrus v2.2.12) with LMTPA;\n",
      "\t Sat, 05 Jan 2008 09:14:16 -0500\n",
      "Received: from holes.mr.itd.umich.edu (holes.mr.itd.umich.edu [141.211.14.79])\n",
      "\tby flawless.mail.umich.edu () with ESMTP id m05EEFR1013674;\n",
      "\tSat, 5 Jan 2008 09:14:15 -0500\n",
      "Received: FROM paploo.uhi.ac.uk (app1.prod.collab.uhi.ac.uk [194.35.219.184])\n",
      "\tBY holes.mr.itd.umich.edu ID 477F90B0.2DB2F.12494 ; \n",
      "\t 5 Jan 2008 09:14:10 -0500\n",
      "Received: from paploo.uhi.ac.uk (localhost [127.0.0.1])\n",
      "\tby paploo.uhi.ac.uk (Postfix) with ESMTP id 5F919BC2F2;\n",
      "\tSat,  5 Jan 2008 14:10:05 +0000 (GMT)\n",
      "Message-ID: <200801051412.m05ECIaH010327@nakamura.uits.iupui.edu>\n",
      "Mime-Version: 1.0\n",
      "Content-Transfer-Encoding: 7bit\n",
      "R\n"
     ]
    }
   ],
   "source": [
    "show_text=fh.read(1000)\n",
    "print(show_text)"
   ]
  },
  {
   "cell_type": "markdown",
   "metadata": {},
   "source": [
    "### Read the text file line by line to extract the email address and INSERT INTO/UPDATE the SQL Table "
   ]
  },
  {
   "cell_type": "code",
   "execution_count": 123,
   "metadata": {},
   "outputs": [],
   "source": [
    "for line in fh:\n",
    "    if not line.startswith('From: '): continue\n",
    "    pieces = line.split()\n",
    "    email = pieces[1]\n",
    "    cur.execute('SELECT count FROM Counts WHERE email = ? ', (email,))\n",
    "    row = cur.fetchone()\n",
    "    if row is None:\n",
    "        cur.execute('''INSERT INTO Counts (email, count)\n",
    "                VALUES (?, 1)''', (email,))\n",
    "    else:\n",
    "        cur.execute('UPDATE Counts SET count = count + 1 WHERE email = ?',\n",
    "                    (email,))\n",
    "conn.commit()"
   ]
  },
  {
   "cell_type": "markdown",
   "metadata": {},
   "source": [
    "### Execute SQL command to read email count from the database and ORDER BY the count"
   ]
  },
  {
   "cell_type": "code",
   "execution_count": 124,
   "metadata": {},
   "outputs": [
    {
     "name": "stdout",
     "output_type": "stream",
     "text": [
      "zqian@umich.edu 195\n",
      "mmmay@indiana.edu 161\n",
      "cwen@iupui.edu 158\n",
      "chmaurer@iupui.edu 111\n",
      "aaronz@vt.edu 110\n",
      "ian@caret.cam.ac.uk 96\n",
      "jimeng@umich.edu 93\n",
      "rjlowe@iupui.edu 90\n",
      "dlhaines@umich.edu 84\n",
      "david.horwitz@uct.ac.za 67\n",
      "ajpoland@iupui.edu 48\n",
      "wagnermr@iupui.edu 44\n",
      "gjthomas@iupui.edu 44\n",
      "sgithens@caret.cam.ac.uk 43\n",
      "ray@media.berkeley.edu 32\n",
      "stephen.marquard@uct.ac.za 29\n",
      "gsilver@umich.edu 28\n",
      "josrodri@iupui.edu 28\n",
      "nuno@ufp.pt 28\n",
      "bkirschn@umich.edu 27\n"
     ]
    }
   ],
   "source": [
    "sqlstr = 'SELECT email,count FROM Counts ORDER BY count DESC LIMIT 20'\n",
    "\n",
    "for row in cur.execute(sqlstr):\n",
    "    print(str(row[0]), row[1])"
   ]
  },
  {
   "cell_type": "markdown",
   "metadata": {},
   "source": [
    "### Run AVG command with a LIKE matching string to count the average number of emails from a particular source"
   ]
  },
  {
   "cell_type": "code",
   "execution_count": 125,
   "metadata": {},
   "outputs": [
    {
     "name": "stdout",
     "output_type": "stream",
     "text": [
      "44.63636363636363\n"
     ]
    }
   ],
   "source": [
    "sqlstr = 'SELECT AVG(count) FROM Counts WHERE email LIKE \"%umich%\"'\n",
    "for row in cur.execute(sqlstr):\n",
    "    print(float(row[0]))"
   ]
  },
  {
   "cell_type": "markdown",
   "metadata": {},
   "source": [
    "#### Close the remote and local file handler and the cursor connection"
   ]
  },
  {
   "cell_type": "code",
   "execution_count": 126,
   "metadata": {},
   "outputs": [],
   "source": [
    "fh.close()\n",
    "cur.close()\n",
    "fhand.close()"
   ]
  }
 ],
 "metadata": {
  "kernelspec": {
   "display_name": "Python 3",
   "language": "python",
   "name": "python3"
  },
  "language_info": {
   "codemirror_mode": {
    "name": "ipython",
    "version": 3
   },
   "file_extension": ".py",
   "mimetype": "text/x-python",
   "name": "python",
   "nbconvert_exporter": "python",
   "pygments_lexer": "ipython3",
   "version": "3.6.2"
  }
 },
 "nbformat": 4,
 "nbformat_minor": 2
}
