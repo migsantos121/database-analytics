{
 "cells": [
  {
   "cell_type": "markdown",
   "metadata": {},
   "source": [
    "## This notebook does the following \n",
    "* **Retrieves and prints basic data about a movie (title entered by user) from the web (OMDB database)**\n",
    "* **If a poster of the movie could be found, it downloads the file and saves at a user-specified location**\n",
    "* **Finally, stores the movie data in a local SQLite database**"
   ]
  },
  {
   "cell_type": "code",
   "execution_count": 38,
   "metadata": {},
   "outputs": [],
   "source": [
    "import urllib.request, urllib.parse, urllib.error\n",
    "import json"
   ]
  },
  {
   "cell_type": "markdown",
   "metadata": {},
   "source": [
    "### Gets the secret API key (you have to get one from OMDB website and use that, 1000 daily limit) from a JSON file, stored in the same folder"
   ]
  },
  {
   "cell_type": "code",
   "execution_count": 39,
   "metadata": {},
   "outputs": [],
   "source": [
    "with open('APIkeys.json') as f:\n",
    "    keys = json.load(f)\n",
    "    omdbapi = keys['OMDBapi']"
   ]
  },
  {
   "cell_type": "code",
   "execution_count": 40,
   "metadata": {},
   "outputs": [],
   "source": [
    "serviceurl = 'http://www.omdbapi.com/?'\n",
    "apikey = '&apikey='+omdbapi"
   ]
  },
  {
   "cell_type": "markdown",
   "metadata": {},
   "source": [
    "### Function for printing a JSON dataset"
   ]
  },
  {
   "cell_type": "code",
   "execution_count": 41,
   "metadata": {},
   "outputs": [],
   "source": [
    "def print_json(json_data):\n",
    "    list_keys=['Title', 'Year', 'Rated', 'Released', 'Runtime', 'Genre', 'Director', 'Writer', \n",
    "               'Actors', 'Plot', 'Language', 'Country', 'Awards', 'Ratings', \n",
    "               'Metascore', 'imdbRating', 'imdbVotes', 'imdbID']\n",
    "    print(\"-\"*50)\n",
    "    for k in list_keys:\n",
    "        if k in list(json_data.keys()):\n",
    "            print(f\"{k}: {json_data[k]}\")\n",
    "    print(\"-\"*50)"
   ]
  },
  {
   "cell_type": "markdown",
   "metadata": {},
   "source": [
    "### Function to download a poster of the movie based on the information from the jason dataset\n",
    "**Saves the downloaded poster in a local directory called 'Posters'**"
   ]
  },
  {
   "cell_type": "code",
   "execution_count": 42,
   "metadata": {},
   "outputs": [],
   "source": [
    "def save_poster(json_data):\n",
    "    import os\n",
    "    title = json_data['Title']\n",
    "    poster_url = json_data['Poster']\n",
    "    # Splits the poster url by '.' and picks up the last string as file extension\n",
    "    poster_file_extension=poster_url.split('.')[-1]\n",
    "    # Reads the image file from web\n",
    "    poster_data = urllib.request.urlopen(poster_url).read()\n",
    "        \n",
    "    savelocation=os.getcwd()+'\\\\'+'Posters'+'\\\\'\n",
    "    # Creates new directory if the directory does not exist. Otherwise, just use the existing path.\n",
    "    if not os.path.isdir(savelocation):\n",
    "        os.mkdir(savelocation)\n",
    "    \n",
    "    filename=savelocation+str(title)+'.'+poster_file_extension\n",
    "    f=open(filename,'wb')\n",
    "    f.write(poster_data)\n",
    "    f.close()"
   ]
  },
  {
   "cell_type": "markdown",
   "metadata": {},
   "source": [
    "### Function to create/update the local movie database with the data retreived from the web\n",
    "**Saves the movie data (Title, Year, Runtime, Country, Metascore, and IMDB rating) into a local SQLite database called 'movieinfo.sqlite'** "
   ]
  },
  {
   "cell_type": "code",
   "execution_count": 43,
   "metadata": {},
   "outputs": [],
   "source": [
    "def save_in_database(json_data):\n",
    "    \n",
    "    filename = input(\"Please enter a name for the database (extension not needed, it will be added automatically): \")\n",
    "    filename = filename+'.sqlite'\n",
    "    \n",
    "    import sqlite3\n",
    "    conn = sqlite3.connect(str(filename))\n",
    "    cur=conn.cursor()\n",
    "    \n",
    "    title = json_data['Title']\n",
    "    # Goes through the json dataset and extracts information if it is available\n",
    "    if json_data['Year']!='N/A':\n",
    "        year = int(json_data['Year'])\n",
    "    if json_data['Runtime']!='N/A':\n",
    "        runtime = int(json_data['Runtime'].split()[0])\n",
    "    if json_data['Country']!='N/A':\n",
    "        country = json_data['Country']\n",
    "    if json_data['Metascore']!='N/A':\n",
    "        metascore = float(json_data['Metascore'])\n",
    "    else:\n",
    "        metascore=-1\n",
    "    if json_data['imdbRating']!='N/A':\n",
    "        imdb_rating = float(json_data['imdbRating'])\n",
    "    else:\n",
    "        imdb_rating=-1\n",
    "    \n",
    "    # SQL commands\n",
    "    cur.execute('''CREATE TABLE IF NOT EXISTS MovieInfo \n",
    "    (Title TEXT, Year INTEGER, Runtime INTEGER, Country TEXT, Metascore REAL, IMDBRating REAL)''')\n",
    "    \n",
    "    cur.execute('SELECT Title FROM MovieInfo WHERE Title = ? ', (title,))\n",
    "    row = cur.fetchone()\n",
    "    \n",
    "    if row is None:\n",
    "        cur.execute('''INSERT INTO MovieInfo (Title, Year, Runtime, Country, Metascore, IMDBRating)\n",
    "                VALUES (?,?,?,?,?,?)''', (title,year,runtime,country,metascore,imdb_rating))\n",
    "    else:\n",
    "        print(\"Record already found. No update made.\")\n",
    "    \n",
    "    # Commits the change and close the connection to the database\n",
    "    conn.commit()\n",
    "    conn.close()"
   ]
  },
  {
   "cell_type": "markdown",
   "metadata": {},
   "source": [
    "### Function to print contents of  the local database"
   ]
  },
  {
   "cell_type": "code",
   "execution_count": 44,
   "metadata": {},
   "outputs": [],
   "source": [
    "def print_database(database):\n",
    "    \n",
    "    import sqlite3\n",
    "    conn = sqlite3.connect(str(database))\n",
    "    cur=conn.cursor()\n",
    "    \n",
    "    for row in cur.execute('SELECT * FROM MovieInfo'):\n",
    "        print(row)\n",
    "    conn.close()"
   ]
  },
  {
   "cell_type": "markdown",
   "metadata": {},
   "source": [
    "### Function to save the database content in an Excel file"
   ]
  },
  {
   "cell_type": "code",
   "execution_count": 45,
   "metadata": {},
   "outputs": [],
   "source": [
    "def save_in_excel(filename, database):\n",
    "    \n",
    "    if filename.split('.')[-1]!='xls' and filename.split('.')[-1]!='xlsx':\n",
    "        print (\"Filename does not have correct extension. Please try again\")\n",
    "        return None\n",
    "    \n",
    "    import pandas as pd\n",
    "    import sqlite3\n",
    "    \n",
    "    #df=pd.DataFrame(columns=['Title','Year', 'Runtime', 'Country', 'Metascore', 'IMDB_Rating'])\n",
    "    \n",
    "    conn = sqlite3.connect(str(database))\n",
    "    #cur=conn.cursor()\n",
    "    \n",
    "    df=pd.read_sql_query(\"SELECT * FROM MovieInfo\", conn)\n",
    "    conn.close()\n",
    "    \n",
    "    df.to_excel(filename,sheet_name='Movie Info')"
   ]
  },
  {
   "cell_type": "markdown",
   "metadata": {},
   "source": [
    "### Function to search for information about a movie"
   ]
  },
  {
   "cell_type": "code",
   "execution_count": 46,
   "metadata": {
    "code_folding": [],
    "scrolled": false
   },
   "outputs": [],
   "source": [
    "def search_movie(title):\n",
    "    if len(title) < 1 or title=='quit': \n",
    "        print(\"Goodbye now...\")\n",
    "        return None\n",
    "\n",
    "    try:\n",
    "        url = serviceurl + urllib.parse.urlencode({'t': title})+apikey\n",
    "        print(f'Retrieving the data of \"{title}\" now... ')\n",
    "        uh = urllib.request.urlopen(url)\n",
    "        data = uh.read()\n",
    "        json_data=json.loads(data)\n",
    "        \n",
    "        if json_data['Response']=='True':\n",
    "            print_json(json_data)\n",
    "            \n",
    "            # Asks user whether to download the poster of the movie\n",
    "            if json_data['Poster']!='N/A':\n",
    "                poster_yes_no=input ('Poster of this movie can be downloaded. Enter \"yes\" or \"no\": ').lower()\n",
    "                if poster_yes_no=='yes':\n",
    "                    save_poster(json_data)\n",
    "            # Asks user whether to save the movie information in a local database\n",
    "            save_database_yes_no=input ('Save the movie info in a local database? Enter \"yes\" or \"no\": ').lower()\n",
    "            if save_database_yes_no=='yes':\n",
    "                save_in_database(json_data)\n",
    "        else:\n",
    "            print(\"Error encountered: \",json_data['Error'])\n",
    "    \n",
    "    except urllib.error.URLError as e:\n",
    "        print(f\"ERROR: {e.reason}\")"
   ]
  },
  {
   "cell_type": "markdown",
   "metadata": {},
   "source": [
    "#### Search for 'Titanic'"
   ]
  },
  {
   "cell_type": "code",
   "execution_count": 47,
   "metadata": {},
   "outputs": [
    {
     "name": "stdout",
     "output_type": "stream",
     "text": [
      "\n",
      "Enter the name of a movie (enter 'quit' or hit ENTER to quit): Titanic\n",
      "Retrieving the data of \"Titanic\" now... \n",
      "--------------------------------------------------\n",
      "Title: Titanic\n",
      "Year: 1997\n",
      "Rated: PG-13\n",
      "Released: 19 Dec 1997\n",
      "Runtime: 194 min\n",
      "Genre: Drama, Romance\n",
      "Director: James Cameron\n",
      "Writer: James Cameron\n",
      "Actors: Leonardo DiCaprio, Kate Winslet, Billy Zane, Kathy Bates\n",
      "Plot: A seventeen-year-old aristocrat falls in love with a kind but poor artist aboard the luxurious, ill-fated R.M.S. Titanic.\n",
      "Language: English, Swedish\n",
      "Country: USA\n",
      "Awards: Won 11 Oscars. Another 111 wins & 75 nominations.\n",
      "Ratings: [{'Source': 'Internet Movie Database', 'Value': '7.8/10'}, {'Source': 'Rotten Tomatoes', 'Value': '88%'}, {'Source': 'Metacritic', 'Value': '75/100'}]\n",
      "Metascore: 75\n",
      "imdbRating: 7.8\n",
      "imdbVotes: 879,510\n",
      "imdbID: tt0120338\n",
      "--------------------------------------------------\n",
      "Poster of this movie can be downloaded. Enter \"yes\" or \"no\": yes\n",
      "Save the movie info in a local database? Enter \"yes\" or \"no\": yes\n",
      "Please enter a name for the database (extension not needed, it will be added automatically): movies\n"
     ]
    }
   ],
   "source": [
    "title = input('\\nEnter the name of a movie (enter \\'quit\\' or hit ENTER to quit): ')\n",
    "if len(title) < 1 or title=='quit': \n",
    "    print(\"Goodbye now...\")\n",
    "else:\n",
    "    search_movie(title)"
   ]
  },
  {
   "cell_type": "markdown",
   "metadata": {},
   "source": [
    "#### Show the downloaded poster of 'Titanic'"
   ]
  },
  {
   "cell_type": "code",
   "execution_count": 48,
   "metadata": {},
   "outputs": [
    {
     "data": {
      "image/jpeg": "[encoded data removed]",
      "text/plain": [
       "<IPython.core.display.Image object>"
      ]
     },
     "execution_count": 48,
     "metadata": {},
     "output_type": "execute_result"
    }
   ],
   "source": [
    "from IPython.display import Image\n",
    "Image(\"Posters/Titanic.jpg\")"
   ]
  },
  {
   "cell_type": "markdown",
   "metadata": {},
   "source": [
    "#### Print the content of the local database, only single entry so far"
   ]
  },
  {
   "cell_type": "code",
   "execution_count": 49,
   "metadata": {},
   "outputs": [
    {
     "name": "stdout",
     "output_type": "stream",
     "text": [
      "('Titanic', 1997, 194, 'USA', 75.0, 7.8)\n"
     ]
    }
   ],
   "source": [
    "print_database('movies.sqlite')"
   ]
  },
  {
   "cell_type": "markdown",
   "metadata": {},
   "source": [
    "#### Search for 'Jumanji'"
   ]
  },
  {
   "cell_type": "code",
   "execution_count": 50,
   "metadata": {},
   "outputs": [
    {
     "name": "stdout",
     "output_type": "stream",
     "text": [
      "\n",
      "Enter the name of a movie (enter 'quit' or hit ENTER to quit): Jumanji\n",
      "Retrieving the data of \"Jumanji\" now... \n",
      "--------------------------------------------------\n",
      "Title: Jumanji\n",
      "Year: 1995\n",
      "Rated: PG\n",
      "Released: 15 Dec 1995\n",
      "Runtime: 104 min\n",
      "Genre: Adventure, Family, Fantasy\n",
      "Director: Joe Johnston\n",
      "Writer: Jonathan Hensleigh (screenplay), Greg Taylor (screenplay), Jim Strain (screenplay), Greg Taylor (screen story), Jim Strain (screen story), Chris Van Allsburg (screen story), Chris Van Allsburg (book)\n",
      "Actors: Robin Williams, Jonathan Hyde, Kirsten Dunst, Bradley Pierce\n",
      "Plot: When two kids find and play a magical board game, they release a man trapped for decades in it and a host of dangers that can only be stopped by finishing the game.\n",
      "Language: English, French\n",
      "Country: USA\n",
      "Awards: 4 wins & 9 nominations.\n",
      "Ratings: [{'Source': 'Internet Movie Database', 'Value': '6.9/10'}, {'Source': 'Rotten Tomatoes', 'Value': '51%'}, {'Source': 'Metacritic', 'Value': '39/100'}]\n",
      "Metascore: 39\n",
      "imdbRating: 6.9\n",
      "imdbVotes: 246,203\n",
      "imdbID: tt0113497\n",
      "--------------------------------------------------\n",
      "Poster of this movie can be downloaded. Enter \"yes\" or \"no\": yes\n",
      "Save the movie info in a local database? Enter \"yes\" or \"no\": yes\n",
      "Please enter a name for the database (extension not needed, it will be added automatically): movies\n"
     ]
    }
   ],
   "source": [
    "title = input('\\nEnter the name of a movie (enter \\'quit\\' or hit ENTER to quit): ')\n",
    "if len(title) < 1 or title=='quit': \n",
    "    print(\"Goodbye now...\")\n",
    "else:\n",
    "    search_movie(title)"
   ]
  },
  {
   "cell_type": "markdown",
   "metadata": {},
   "source": [
    "#### Search for \"To kill a mockingbird\""
   ]
  },
  {
   "cell_type": "code",
   "execution_count": 51,
   "metadata": {},
   "outputs": [
    {
     "name": "stdout",
     "output_type": "stream",
     "text": [
      "\n",
      "Enter the name of a movie (enter 'quit' or hit ENTER to quit): To kill a Mockingbird\n",
      "Retrieving the data of \"To kill a Mockingbird\" now... \n",
      "--------------------------------------------------\n",
      "Title: To Kill a Mockingbird\n",
      "Year: 1962\n",
      "Rated: NOT RATED\n",
      "Released: 16 Mar 1963\n",
      "Runtime: 129 min\n",
      "Genre: Crime, Drama\n",
      "Director: Robert Mulligan\n",
      "Writer: Harper Lee (based on her novel \"To Kill a Mockingbird\"), Horton Foote (screenplay)\n",
      "Actors: Gregory Peck, John Megna, Frank Overton, Rosemary Murphy\n",
      "Plot: Atticus Finch, a lawyer in the Depression-era South, defends a black man against an undeserved rape charge, and his children against prejudice.\n",
      "Language: English\n",
      "Country: USA\n",
      "Awards: Won 3 Oscars. Another 10 wins & 16 nominations.\n",
      "Ratings: [{'Source': 'Internet Movie Database', 'Value': '8.3/10'}, {'Source': 'Rotten Tomatoes', 'Value': '91%'}, {'Source': 'Metacritic', 'Value': '87/100'}]\n",
      "Metascore: 87\n",
      "imdbRating: 8.3\n",
      "imdbVotes: 247,349\n",
      "imdbID: tt0056592\n",
      "--------------------------------------------------\n",
      "Poster of this movie can be downloaded. Enter \"yes\" or \"no\": yes\n",
      "Save the movie info in a local database? Enter \"yes\" or \"no\": yes\n",
      "Please enter a name for the database (extension not needed, it will be added automatically): movies\n"
     ]
    }
   ],
   "source": [
    "title = input('\\nEnter the name of a movie (enter \\'quit\\' or hit ENTER to quit): ')\n",
    "if len(title) < 1 or title=='quit': \n",
    "    print(\"Goodbye now...\")\n",
    "else:\n",
    "    search_movie(title)"
   ]
  },
  {
   "cell_type": "markdown",
   "metadata": {},
   "source": [
    "#### Search for \"Titanic\" again, note while trying to save the record, the message from the database connection saying 'Record already found'"
   ]
  },
  {
   "cell_type": "code",
   "execution_count": 52,
   "metadata": {},
   "outputs": [
    {
     "name": "stdout",
     "output_type": "stream",
     "text": [
      "\n",
      "Enter the name of a movie (enter 'quit' or hit ENTER to quit): Titanic\n",
      "Retrieving the data of \"Titanic\" now... \n",
      "--------------------------------------------------\n",
      "Title: Titanic\n",
      "Year: 1997\n",
      "Rated: PG-13\n",
      "Released: 19 Dec 1997\n",
      "Runtime: 194 min\n",
      "Genre: Drama, Romance\n",
      "Director: James Cameron\n",
      "Writer: James Cameron\n",
      "Actors: Leonardo DiCaprio, Kate Winslet, Billy Zane, Kathy Bates\n",
      "Plot: A seventeen-year-old aristocrat falls in love with a kind but poor artist aboard the luxurious, ill-fated R.M.S. Titanic.\n",
      "Language: English, Swedish\n",
      "Country: USA\n",
      "Awards: Won 11 Oscars. Another 111 wins & 75 nominations.\n",
      "Ratings: [{'Source': 'Internet Movie Database', 'Value': '7.8/10'}, {'Source': 'Rotten Tomatoes', 'Value': '88%'}, {'Source': 'Metacritic', 'Value': '75/100'}]\n",
      "Metascore: 75\n",
      "imdbRating: 7.8\n",
      "imdbVotes: 879,510\n",
      "imdbID: tt0120338\n",
      "--------------------------------------------------\n",
      "Poster of this movie can be downloaded. Enter \"yes\" or \"no\": no\n",
      "Save the movie info in a local database? Enter \"yes\" or \"no\": yes\n",
      "Please enter a name for the database (extension not needed, it will be added automatically): movies\n",
      "Record already found. No update made.\n"
     ]
    }
   ],
   "source": [
    "title = input('\\nEnter the name of a movie (enter \\'quit\\' or hit ENTER to quit): ')\n",
    "if len(title) < 1 or title=='quit': \n",
    "    print(\"Goodbye now...\")\n",
    "else:\n",
    "    search_movie(title)"
   ]
  },
  {
   "cell_type": "markdown",
   "metadata": {},
   "source": [
    "#### Print the database contents again"
   ]
  },
  {
   "cell_type": "code",
   "execution_count": 53,
   "metadata": {},
   "outputs": [
    {
     "name": "stdout",
     "output_type": "stream",
     "text": [
      "('Titanic', 1997, 194, 'USA', 75.0, 7.8)\n",
      "('Jumanji', 1995, 104, 'USA', 39.0, 6.9)\n",
      "('To Kill a Mockingbird', 1962, 129, 'USA', 87.0, 8.3)\n"
     ]
    }
   ],
   "source": [
    "print_database('movies.sqlite')"
   ]
  },
  {
   "cell_type": "markdown",
   "metadata": {},
   "source": [
    "#### Save the database content into an Excel file"
   ]
  },
  {
   "cell_type": "code",
   "execution_count": 54,
   "metadata": {},
   "outputs": [],
   "source": [
    "save_in_excel('test.xlsx','movies.sqlite')"
   ]
  },
  {
   "cell_type": "code",
   "execution_count": 56,
   "metadata": {},
   "outputs": [
    {
     "data": {
      "text/html": [
       "<div>\n",
       "<style>\n",
       "    .dataframe thead tr:only-child th {\n",
       "        text-align: right;\n",
       "    }\n",
       "\n",
       "    .dataframe thead th {\n",
       "        text-align: left;\n",
       "    }\n",
       "\n",
       "    .dataframe tbody tr th {\n",
       "        vertical-align: top;\n",
       "    }\n",
       "</style>\n",
       "<table border=\"1\" class=\"dataframe\">\n",
       "  <thead>\n",
       "    <tr style=\"text-align: right;\">\n",
       "      <th></th>\n",
       "      <th>Title</th>\n",
       "      <th>Year</th>\n",
       "      <th>Runtime</th>\n",
       "      <th>Country</th>\n",
       "      <th>Metascore</th>\n",
       "      <th>IMDBRating</th>\n",
       "    </tr>\n",
       "  </thead>\n",
       "  <tbody>\n",
       "    <tr>\n",
       "      <th>0</th>\n",
       "      <td>Titanic</td>\n",
       "      <td>1997</td>\n",
       "      <td>194</td>\n",
       "      <td>USA</td>\n",
       "      <td>75</td>\n",
       "      <td>7.8</td>\n",
       "    </tr>\n",
       "    <tr>\n",
       "      <th>1</th>\n",
       "      <td>Jumanji</td>\n",
       "      <td>1995</td>\n",
       "      <td>104</td>\n",
       "      <td>USA</td>\n",
       "      <td>39</td>\n",
       "      <td>6.9</td>\n",
       "    </tr>\n",
       "    <tr>\n",
       "      <th>2</th>\n",
       "      <td>To Kill a Mockingbird</td>\n",
       "      <td>1962</td>\n",
       "      <td>129</td>\n",
       "      <td>USA</td>\n",
       "      <td>87</td>\n",
       "      <td>8.3</td>\n",
       "    </tr>\n",
       "  </tbody>\n",
       "</table>\n",
       "</div>"
      ],
      "text/plain": [
       "                   Title  Year  Runtime Country  Metascore  IMDBRating\n",
       "0                Titanic  1997      194     USA         75         7.8\n",
       "1                Jumanji  1995      104     USA         39         6.9\n",
       "2  To Kill a Mockingbird  1962      129     USA         87         8.3"
      ]
     },
     "execution_count": 56,
     "metadata": {},
     "output_type": "execute_result"
    }
   ],
   "source": [
    "import pandas as pd\n",
    "df=pd.read_excel('test.xlsx')\n",
    "df"
   ]
  }
 ],
 "metadata": {
  "kernelspec": {
   "display_name": "Python 3",
   "language": "python",
   "name": "python3"
  },
  "language_info": {
   "codemirror_mode": {
    "name": "ipython",
    "version": 3
   },
   "file_extension": ".py",
   "mimetype": "text/x-python",
   "name": "python",
   "nbconvert_exporter": "python",
   "pygments_lexer": "ipython3",
   "version": "3.6.2"
  },
  "latex_envs": {
   "LaTeX_envs_menu_present": true,
   "autoclose": false,
   "autocomplete": true,
   "bibliofile": "biblio.bib",
   "cite_by": "apalike",
   "current_citInitial": 1,
   "eqLabelWithNumbers": true,
   "eqNumInitial": 1,
   "hotkeys": {
    "equation": "Ctrl-E",
    "itemize": "Ctrl-I"
   },
   "labels_anchors": false,
   "latex_user_defs": false,
   "report_style_numbering": false,
   "user_envs_cfg": false
  }
 },
 "nbformat": 4,
 "nbformat_minor": 2
}
