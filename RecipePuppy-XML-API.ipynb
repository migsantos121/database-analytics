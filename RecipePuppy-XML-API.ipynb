{
 "cells": [
  {
   "cell_type": "markdown",
   "metadata": {},
   "source": [
    "# Notebook to download recipe links from a free API"
   ]
  },
  {
   "cell_type": "code",
   "execution_count": 17,
   "metadata": {},
   "outputs": [],
   "source": [
    "import urllib.request, urllib.parse, urllib.error\n",
    "import xml.etree.ElementTree as ET"
   ]
  },
  {
   "cell_type": "code",
   "execution_count": 24,
   "metadata": {},
   "outputs": [],
   "source": [
    "serviceurl = 'http://www.recipepuppy.com/api/?'"
   ]
  },
  {
   "cell_type": "code",
   "execution_count": 88,
   "metadata": {
    "code_folding": []
   },
   "outputs": [
    {
     "name": "stdout",
     "output_type": "stream",
     "text": [
      "Enter the name of a food item (enter 'quit' to quit): chicken tikka\n"
     ]
    }
   ],
   "source": [
    "item = str(input('Enter the name of a food item (enter \\'quit\\' to quit): '))\n",
    "url = serviceurl + urllib.parse.urlencode({'q':item})+'&p=1&format=xml'\n",
    "#print('Retrieving', url)\n",
    "uh = urllib.request.urlopen(url)"
   ]
  },
  {
   "cell_type": "code",
   "execution_count": 89,
   "metadata": {},
   "outputs": [
    {
     "name": "stdout",
     "output_type": "stream",
     "text": [
      "Retrieved 2611 characters\n"
     ]
    }
   ],
   "source": [
    "data = uh.read().decode()\n",
    "print('Retrieved', len(data), 'characters')\n",
    "#print(data)\n",
    "tree = ET.fromstring(data)"
   ]
  },
  {
   "cell_type": "code",
   "execution_count": 90,
   "metadata": {},
   "outputs": [
    {
     "data": {
      "text/plain": [
       "xml.etree.ElementTree.Element"
      ]
     },
     "execution_count": 90,
     "metadata": {},
     "output_type": "execute_result"
    }
   ],
   "source": [
    "type(tree)"
   ]
  },
  {
   "cell_type": "code",
   "execution_count": 91,
   "metadata": {},
   "outputs": [
    {
     "name": "stdout",
     "output_type": "stream",
     "text": [
      "\n",
      "\n",
      "\n",
      "\n",
      "Chicken Tikka Masala\n",
      "http://allrecipes.com/Recipe/Chicken-Tikka-Masala/Detail.aspx\n",
      "black pepper, chicken, butter, cayenne, cinnamon, cumin, cumin, garlic, heavy cream, jalapeno, lemon juice, paprika, salt, salt, yogurt\n",
      "\n",
      "\n",
      "Chicken Tikka With Chickpea Flour\n",
      "http://www.recipezaar.com/Chicken-Tikka-With-Chickpea-Flour-224938\n",
      "chicken, chickpea flour, chili powder, cumin, garlic, ginger, lemon juice, nutmeg, salt, turmeric\n",
      "\n",
      "\n",
      "Chicken Tikka Masala\n",
      "http://www.recipezaar.com/Chicken-Tikka-Masala-289402\n",
      "black pepper, chicken, tomato, cayenne, chicken broth, garam masala, garlic, ginger, cardamom, cinnamon, coriander, cumin, onions, paprika, yogurt, salt, tomato paste, turmeric, vegetable oil\n",
      "\n",
      "\n",
      "Chicken Tikka Masala Recipe\n",
      "http://www.grouprecipes.com/37802/chicken-tikka-masala.html\n",
      "cumin, garam masala\n",
      "\n",
      "\n",
      "Chicken Tikka Masala\n",
      "http://www.recipezaar.com/Chicken-Tikka-Masala-166811\n",
      "chicken, butter, cayenne, cilantro, ginger, black pepper, garam masala, garlic, cinnamon, cumin, cumin, heavy cream, jalapeno, lemon juice, paprika, salt, salt, tomato sauce, yogurt\n",
      "\n",
      "\n",
      "Chicken Tikka\n",
      "http://www.recipezaar.com/Chicken-Tikka-303703\n",
      "black pepper, chili powder, ginger, coriander, lemon juice, vegetable oil, yogurt, food coloring, salt, chicken drumstick, tomato paste\n",
      "\n",
      "\n",
      "Chicken Tikka\n",
      "http://www.recipezaar.com/Chicken-Tikka-111610\n",
      "butter, chicken, chili powder, garlic, ginger, coriander, onions, salt, tomato paste, yogurt\n",
      "\n",
      "\n",
      "Chicken Tikka\n",
      "http://www.epicurious.com/recipes/food/views/Chicken-Tikka-109308\n",
      "chutney, black pepper, cayenne, coriander seed, cumin, garam masala, garlic, lime juice, whole milk, salt, turmeric, vegetable oil\n",
      "\n",
      "\n",
      "Chicken Tikka Masala\n",
      "http://www.recipezaar.com/Chicken-Tikka-Masala-263097\n",
      "beans, chicken, cilantro, garam masala, rice, water, water\n",
      "\n",
      "\n",
      "Chicken Tikka Masala\n",
      "http://www.recipezaar.com/Chicken-Tikka-Masala-236996\n",
      "chicken\n"
     ]
    }
   ],
   "source": [
    "for elem in tree.iter():\n",
    "    print(elem.text)"
   ]
  }
 ],
 "metadata": {
  "kernelspec": {
   "display_name": "Python 3",
   "language": "python",
   "name": "python3"
  },
  "language_info": {
   "codemirror_mode": {
    "name": "ipython",
    "version": 3
   },
   "file_extension": ".py",
   "mimetype": "text/x-python",
   "name": "python",
   "nbconvert_exporter": "python",
   "pygments_lexer": "ipython3",
   "version": "3.6.2"
  },
  "latex_envs": {
   "LaTeX_envs_menu_present": true,
   "autoclose": false,
   "autocomplete": true,
   "bibliofile": "biblio.bib",
   "cite_by": "apalike",
   "current_citInitial": 1,
   "eqLabelWithNumbers": true,
   "eqNumInitial": 1,
   "hotkeys": {
    "equation": "Ctrl-E",
    "itemize": "Ctrl-I"
   },
   "labels_anchors": false,
   "latex_user_defs": false,
   "report_style_numbering": false,
   "user_envs_cfg": false
  },
  "toc": {
   "nav_menu": {},
   "number_sections": true,
   "sideBar": true,
   "skip_h1_title": false,
   "title_cell": "Table of Contents",
   "title_sidebar": "Contents",
   "toc_cell": false,
   "toc_position": {},
   "toc_section_display": true,
   "toc_window_display": false
  }
 },
 "nbformat": 4,
 "nbformat_minor": 2
}
