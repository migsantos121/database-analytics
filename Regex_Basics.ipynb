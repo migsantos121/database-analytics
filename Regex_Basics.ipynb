{
 "cells": [
  {
   "cell_type": "markdown",
   "metadata": {},
   "source": [
    "# Basic usage of Regular Expressions (aka _regex_)\n",
    "## [Dr. Tirthajyoti Sarkar](https://www.linkedin.com/in/tirthajyoti-sarkar-2127aa7/), Sunnyvale, CA, Nov 2018\n",
    "\n",
    "Regular expressions or regex are used to identify whether a pattern exists in a given sequence of characters (string) or not. They help in manipulating textual data, which is often a pre-requisite for data science projects that involve text mining.\n",
    "\n",
    "Regex is like a mini-programming language in itself and the common ideas are used in not only Python, but in all widely used web apps languages like JavaScript, PHP, Perl etc. The regex module is in-built in Python and you just have to import it by,"
   ]
  },
  {
   "cell_type": "code",
   "execution_count": 2,
   "metadata": {},
   "outputs": [],
   "source": [
    "import re"
   ]
  },
  {
   "cell_type": "markdown",
   "metadata": {},
   "source": [
    "### Use `match` method to check if a pattern matches a string/sequence. It is case-sensitive\n",
    "One of the most common regex methods is match. This is used to check an exact or partial match at the beginning of the string (by default).\n",
    "Let’s define a string and a pattern."
   ]
  },
  {
   "cell_type": "code",
   "execution_count": 3,
   "metadata": {},
   "outputs": [],
   "source": [
    "string1 = 'Python'\n",
    "pattern = r\"Python\""
   ]
  },
  {
   "cell_type": "markdown",
   "metadata": {},
   "source": [
    "Let’s write a conditional expression to check for a match."
   ]
  },
  {
   "cell_type": "code",
   "execution_count": 4,
   "metadata": {},
   "outputs": [
    {
     "name": "stdout",
     "output_type": "stream",
     "text": [
      "Matches!\n"
     ]
    }
   ],
   "source": [
    "if re.match(pattern,string1):\n",
    "    print(\"Matches!\")\n",
    "else:\n",
    "    print(\"Doesn't match.\")"
   ]
  },
  {
   "cell_type": "markdown",
   "metadata": {},
   "source": [
    "Now, let’s test with a string which only differs in the first letter by making it a lowercase."
   ]
  },
  {
   "cell_type": "code",
   "execution_count": 5,
   "metadata": {},
   "outputs": [],
   "source": [
    "string2 = 'python'"
   ]
  },
  {
   "cell_type": "code",
   "execution_count": 6,
   "metadata": {},
   "outputs": [
    {
     "name": "stdout",
     "output_type": "stream",
     "text": [
      "Doesn't match.\n"
     ]
    }
   ],
   "source": [
    "if re.match(pattern,string2):\n",
    "    print(\"Matches!\")\n",
    "else:\n",
    "    print(\"Doesn't match.\")"
   ]
  },
  {
   "cell_type": "markdown",
   "metadata": {},
   "source": [
    "### Instead of repeating the code, we can use `compile` to create a regex program and use methods\n",
    "In a program or module, if we are making heavy use of a particular pattern, then it is better to use the `compile` method and create a regex program and then call methods on this program. Here is how you compile a regex program."
   ]
  },
  {
   "cell_type": "code",
   "execution_count": 7,
   "metadata": {},
   "outputs": [
    {
     "data": {
      "text/plain": [
       "<_sre.SRE_Match object; span=(0, 6), match='Python'>"
      ]
     },
     "execution_count": 7,
     "metadata": {},
     "output_type": "execute_result"
    }
   ],
   "source": [
    "prog = re.compile(pattern)\n",
    "prog.match(string1)"
   ]
  },
  {
   "cell_type": "markdown",
   "metadata": {},
   "source": [
    "This code produced a `SRE.Match` object which has a `span` of (0,6) and the matched string of ‘Python’. The `span` here simply denotes the start and end indices of the pattern that was matched. \n",
    "\n",
    "These indices may come handy in a text mining program where the subsequent code uses the indices for further search or decision-making purpose. We will see some examples of that later."
   ]
  },
  {
   "cell_type": "markdown",
   "metadata": {},
   "source": [
    "### So compiled progarms return special object e.g. `match` objects. But if they don't match it will return `None`, so we can still run our conditional loop!\n",
    "Compiled object act like function that they return `None` if the pattern does not match. \n",
    "\n",
    "Here, we check that by writing a simple conditional. This concept will come handy later when we write a small utility function to check for the type of the returned object from regex compiled programs and act accordingly. We cannot be sure about whether a pattern will match a given string or it will appear in some corpus of the text (if we are searching for the pattern anywhere within the text). Depending on the situation, we may encounter `Match` objects or `None` as the returned value and we have to handle it gracefully."
   ]
  },
  {
   "cell_type": "code",
   "execution_count": 8,
   "metadata": {},
   "outputs": [
    {
     "name": "stdout",
     "output_type": "stream",
     "text": [
      "Matches!\n"
     ]
    }
   ],
   "source": [
    "prog = re.compile(pattern)\n",
    "if prog.match(string1)!=None:\n",
    "    print(\"Matches!\")\n",
    "else:\n",
    "    print(\"Doesn't match.\")"
   ]
  },
  {
   "cell_type": "code",
   "execution_count": 9,
   "metadata": {},
   "outputs": [
    {
     "name": "stdout",
     "output_type": "stream",
     "text": [
      "Doesn't match.\n"
     ]
    }
   ],
   "source": [
    "if prog.match(string2)!=None:\n",
    "    print(\"Matches!\")\n",
    "else:\n",
    "    print(\"Doesn't match.\")"
   ]
  },
  {
   "cell_type": "markdown",
   "metadata": {},
   "source": [
    "### Use additional parameters in `match` to check for positional matching\n",
    "By default, match looks for pattern matching at the beginning of the given string. But sometimes, we need to check matching at a specific location in the string.\n",
    "\n",
    "The following example matches `y` for the 2nd position (index/pos 1)."
   ]
  },
  {
   "cell_type": "code",
   "execution_count": 10,
   "metadata": {},
   "outputs": [],
   "source": [
    "prog = re.compile(r'y')"
   ]
  },
  {
   "cell_type": "code",
   "execution_count": 11,
   "metadata": {},
   "outputs": [
    {
     "data": {
      "text/plain": [
       "<_sre.SRE_Match object; span=(1, 2), match='y'>"
      ]
     },
     "execution_count": 11,
     "metadata": {},
     "output_type": "execute_result"
    }
   ],
   "source": [
    "prog.match('Python',pos=1)"
   ]
  },
  {
   "cell_type": "code",
   "execution_count": 12,
   "metadata": {},
   "outputs": [],
   "source": [
    "prog = re.compile(r'thon')"
   ]
  },
  {
   "cell_type": "code",
   "execution_count": 13,
   "metadata": {},
   "outputs": [
    {
     "data": {
      "text/plain": [
       "<_sre.SRE_Match object; span=(2, 6), match='thon'>"
      ]
     },
     "execution_count": 13,
     "metadata": {},
     "output_type": "execute_result"
    }
   ],
   "source": [
    "prog.match('Python',pos=2)"
   ]
  },
  {
   "cell_type": "markdown",
   "metadata": {},
   "source": [
    "Continuing with the same program prog, following example looks for match in a different string,"
   ]
  },
  {
   "cell_type": "code",
   "execution_count": 14,
   "metadata": {},
   "outputs": [
    {
     "data": {
      "text/plain": [
       "<_sre.SRE_Match object; span=(4, 8), match='thon'>"
      ]
     },
     "execution_count": 14,
     "metadata": {},
     "output_type": "execute_result"
    }
   ],
   "source": [
    "prog.match('Marathon',pos=4)"
   ]
  },
  {
   "cell_type": "markdown",
   "metadata": {},
   "source": [
    "### Let's see a use case. Find out how many words in a list has last three letters with 'ing'\n",
    "Suppose, we want to find out if a given string has last three letters as ***‘ing’***. \n",
    "\n",
    "What is a possible use? \n",
    "\n",
    "This kind of query may come up in a text analytics/text mining program where somebody is interested in finding instances of present continuous tense words which are highly likely to end with ‘ing’. However, other nouns may also have ending with ‘ing’ (as we will see in the example)."
   ]
  },
  {
   "cell_type": "code",
   "execution_count": 15,
   "metadata": {},
   "outputs": [
    {
     "name": "stdout",
     "output_type": "stream",
     "text": [
      "Spring has last three letters 'ing'\n",
      "Cycling has last three letters 'ing'\n",
      "Ringtone does not have last three letter as 'ing'\n"
     ]
    }
   ],
   "source": [
    "prog = re.compile(r'ing')\n",
    "words = ['Spring','Cycling','Ringtone']\n",
    "for w in words:\n",
    "    if prog.match(w,pos=len(w)-3)!=None:\n",
    "        print(\"{} has last three letters 'ing'\".format(w))\n",
    "    else:\n",
    "        print(\"{} does not have last three letter as 'ing'\".format(w))"
   ]
  },
  {
   "cell_type": "markdown",
   "metadata": {},
   "source": [
    "It looks plain and simple and you might as well wonder what the purpose of using a special regex module for this. A simple string method should have been sufficient. \n",
    "\n",
    "Yes, it would have been OK for this particular example but the whole point of using regex is to be able to use very complex string patterns which are not at all obvious how to wrote using simple string methods. We will shortly see the real power of regex as compared to string methods. \n",
    "\n",
    "But before that, let’s explore another most commonly used method called search."
   ]
  },
  {
   "cell_type": "markdown",
   "metadata": {},
   "source": [
    "### We could have used simple string method. What's powerful about regex? The answer is that it can match very complex pattern. But to see such examples, let's first explore `search` method.\n",
    "\n",
    "`Search` and `match` are related concepts and they both return the same Match object. The real difference between them is that `match` works for only the first match (either at the beginning of the string or at a specified position, as we saw in the previous exercises) whereas `search` looks for the pattern anywhere in the string and returns the appropriate position if it finds a match. \n",
    "\n",
    "See the following example,"
   ]
  },
  {
   "cell_type": "code",
   "execution_count": 16,
   "metadata": {},
   "outputs": [],
   "source": [
    "prog = re.compile('ing')"
   ]
  },
  {
   "cell_type": "code",
   "execution_count": 17,
   "metadata": {},
   "outputs": [
    {
     "data": {
      "text/plain": [
       "<_sre.SRE_Match object; span=(3, 6), match='ing'>"
      ]
     },
     "execution_count": 17,
     "metadata": {},
     "output_type": "execute_result"
    }
   ],
   "source": [
    "prog.search('Spring')"
   ]
  },
  {
   "cell_type": "code",
   "execution_count": 18,
   "metadata": {},
   "outputs": [
    {
     "data": {
      "text/plain": [
       "<_sre.SRE_Match object; span=(1, 4), match='ing'>"
      ]
     },
     "execution_count": 18,
     "metadata": {},
     "output_type": "execute_result"
    }
   ],
   "source": [
    "prog.search('Ringtone')"
   ]
  },
  {
   "cell_type": "markdown",
   "metadata": {},
   "source": [
    "As you can see, the match method returns `None` for the input spring. But `search` returns a `Match` object with the `span=(3,6)` as it finds the pattern ‘ing’ spanning those positions.\n",
    "\n",
    "Similarly, for the string ‘Ringtone’, it finds the correct position of the match and returns `span=(1,4)`."
   ]
  },
  {
   "cell_type": "markdown",
   "metadata": {},
   "source": [
    "### Use the `span()` method of the `match` object, returned by `search`, to locate the position of the matched pattern\n",
    "\n",
    "As you can understand by now, the `span` contained in the `Match` object, is useful for locating the exact position of the pattern as it appears in the string.\n",
    "\n",
    "Run the following code to demonstrate this,"
   ]
  },
  {
   "cell_type": "code",
   "execution_count": 19,
   "metadata": {},
   "outputs": [
    {
     "name": "stdout",
     "output_type": "stream",
     "text": [
      "The word 'Spring' contains 'ing' in the position 3-6\n",
      "The word 'Cycling' contains 'ing' in the position 4-7\n",
      "The word 'Ringtone' contains 'ing' in the position 1-4\n"
     ]
    }
   ],
   "source": [
    "prog = re.compile(r'ing')\n",
    "words = ['Spring','Cycling','Ringtone']\n",
    "for w in words:\n",
    "    mt = prog.search(w)\n",
    "    # Span returns a tuple of start and end positions of the match\n",
    "    start_pos = mt.span()[0] # Starting position of the match\n",
    "    end_pos = mt.span()[1] # Ending position of the match\n",
    "    print(\"The word '{}' contains 'ing' in the position {}-{}\".format(w,start_pos,end_pos))"
   ]
  },
  {
   "cell_type": "markdown",
   "metadata": {},
   "source": [
    "### Examples of various single character pattern matching with `search`. Here we will also use `group()` method, which essentially returns the string matched\n",
    "\n",
    "Now, we will start getting into the real usage of regex with examples of various useful pattern matching. \n",
    "\n",
    "First, we will explore single character matching. We will also use the group method, which essentially returns the matched pattern in a string format so that we can print and process it easily."
   ]
  },
  {
   "cell_type": "markdown",
   "metadata": {},
   "source": [
    "#### Dot `.` matches any single character except newline character"
   ]
  },
  {
   "cell_type": "code",
   "execution_count": 20,
   "metadata": {},
   "outputs": [
    {
     "name": "stdout",
     "output_type": "stream",
     "text": [
      "pyg\n",
      "pyt\n"
     ]
    }
   ],
   "source": [
    "prog = re.compile(r'py.')\n",
    "print(prog.search('pygmy').group())\n",
    "print(prog.search('Jupyter').group())"
   ]
  },
  {
   "cell_type": "markdown",
   "metadata": {},
   "source": [
    "#### `\\w` (lowercase w) matches any single letter, digit or underscore"
   ]
  },
  {
   "cell_type": "code",
   "execution_count": 21,
   "metadata": {},
   "outputs": [
    {
     "name": "stdout",
     "output_type": "stream",
     "text": [
      "com\n",
      "cam\n",
      "c_m\n",
      "c2m\n"
     ]
    }
   ],
   "source": [
    "prog = re.compile(r'c\\wm')\n",
    "print(prog.search('comedy').group())\n",
    "print(prog.search('camera').group())\n",
    "print(prog.search('pac_man').group())\n",
    "print(prog.search('pac2man').group())"
   ]
  },
  {
   "cell_type": "markdown",
   "metadata": {},
   "source": [
    "#### `\\W` (uppercase W) matches anything not covered with `\\w`"
   ]
  },
  {
   "cell_type": "code",
   "execution_count": 22,
   "metadata": {},
   "outputs": [
    {
     "name": "stdout",
     "output_type": "stream",
     "text": [
      "9/11\n",
      "9-11\n",
      "9.11\n",
      "9/11\n"
     ]
    }
   ],
   "source": [
    "prog = re.compile(r'9\\W11')\n",
    "print(prog.search('9/11 was a terrible day!').group())\n",
    "print(prog.search('9-11 was a terrible day!').group())\n",
    "print(prog.search('9.11 was a terrible day!').group())\n",
    "print(prog.search('Remember the terrible day 09/11?').group())"
   ]
  },
  {
   "cell_type": "markdown",
   "metadata": {},
   "source": [
    "#### `\\s` (lowercase s) matches a single whitespace character like: space, newline, tab, return."
   ]
  },
  {
   "cell_type": "code",
   "execution_count": 23,
   "metadata": {},
   "outputs": [
    {
     "name": "stdout",
     "output_type": "stream",
     "text": [
      "Data wrangling\n",
      "--------------------------------------------------------------------------------\n",
      "Data\twrangling is the full string\n",
      "Data\twrangling\n",
      "--------------------------------------------------------------------------------\n",
      "Data\n",
      "wrangling is the full string\n",
      "Data\n",
      "wrangling\n"
     ]
    }
   ],
   "source": [
    "prog = re.compile(r'Data\\swrangling')\n",
    "\n",
    "print(prog.search(\"Data wrangling is cool\").group())\n",
    "print(\"-\"*80)\n",
    "print(\"Data\\twrangling is the full string\")\n",
    "print(prog.search(\"Data\\twrangling is the full string\").group())\n",
    "print(\"-\"*80)\n",
    "\n",
    "print(\"Data\\nwrangling is the full string\")\n",
    "print(prog.search(\"Data\\nwrangling\").group())"
   ]
  },
  {
   "cell_type": "markdown",
   "metadata": {},
   "source": [
    "#### `\\d` matches numerical digits 0 - 9"
   ]
  },
  {
   "cell_type": "code",
   "execution_count": 24,
   "metadata": {},
   "outputs": [
    {
     "name": "stdout",
     "output_type": "stream",
     "text": [
      "score was 67\n",
      "score was 73\n"
     ]
    }
   ],
   "source": [
    "prog = re.compile(r\"score was \\d\\d\")\n",
    "\n",
    "print(prog.search(\"My score was 67\").group())\n",
    "print(prog.search(\"Your score was 73\").group())"
   ]
  },
  {
   "cell_type": "markdown",
   "metadata": {},
   "source": [
    "### Examples of pattern matching either at the start or end of the string\n",
    "\n",
    "First, let us write a small function to handle cases where the match is not found i.e. to handle `None` objects as returns from the regex method."
   ]
  },
  {
   "cell_type": "code",
   "execution_count": 25,
   "metadata": {},
   "outputs": [],
   "source": [
    "def print_match(s):\n",
    "    if prog.search(s)==None:\n",
    "        print(\"No match\")\n",
    "    else:\n",
    "        print(prog.search(s).group())"
   ]
  },
  {
   "cell_type": "markdown",
   "metadata": {},
   "source": [
    "#### `^` (Caret) matches a pattern at the start of the string"
   ]
  },
  {
   "cell_type": "code",
   "execution_count": 26,
   "metadata": {},
   "outputs": [
    {
     "name": "stdout",
     "output_type": "stream",
     "text": [
      "No match\n",
      "India\n",
      "No match\n"
     ]
    }
   ],
   "source": [
    "prog = re.compile(r'^India')\n",
    "\n",
    "print_match(\"Russia implemented this law\")\n",
    "print_match(\"India implemented that law\")\n",
    "print_match(\"This law was implemented by India\")"
   ]
  },
  {
   "cell_type": "markdown",
   "metadata": {},
   "source": [
    "#### `$` (dollar sign) matches a pattern at the end of the string"
   ]
  },
  {
   "cell_type": "code",
   "execution_count": 27,
   "metadata": {},
   "outputs": [
    {
     "name": "stdout",
     "output_type": "stream",
     "text": [
      "Apple\n",
      "No match\n",
      "Apple\n"
     ]
    }
   ],
   "source": [
    "prog = re.compile(r'Apple$')\n",
    "\n",
    "print_match(\"Patent no 123456 belongs to Apple\")\n",
    "print_match(\"Patent no 345672 belongs to Samsung\")\n",
    "print_match(\"Patent no 987654 belongs to Apple\")"
   ]
  },
  {
   "cell_type": "markdown",
   "metadata": {},
   "source": [
    "### Pattern matching with multiple characters\n",
    "\n",
    "Now, we turn to more exciting and useful pattern matching with examples of multiple characters matching. You should start seeing and appreciating the real power of regex by now.\n",
    "\n",
    "For these examples and exercises, also try to think how you would implement them without regex i.e. by using simple string methods and any other logic that you can think of. Then, compare that solution to the ones implemented with regex for brevity and efficiency."
   ]
  },
  {
   "cell_type": "markdown",
   "metadata": {},
   "source": [
    "#### `*` matches 0 or more repetitions of the preceding RE"
   ]
  },
  {
   "cell_type": "code",
   "execution_count": 28,
   "metadata": {},
   "outputs": [
    {
     "name": "stdout",
     "output_type": "stream",
     "text": [
      "a\n",
      "ab\n",
      "abbb\n",
      "No match\n",
      "ab\n",
      "abb\n"
     ]
    }
   ],
   "source": [
    "prog = re.compile(r'ab*')\n",
    "\n",
    "print_match(\"a\")\n",
    "print_match(\"ab\")\n",
    "print_match(\"abbb\")\n",
    "print_match(\"b\")\n",
    "print_match(\"bbab\")\n",
    "print_match(\"something_abb_something\")"
   ]
  },
  {
   "cell_type": "markdown",
   "metadata": {},
   "source": [
    "#### `+` causes the resulting RE to match 1 or more repetitions of the preceding RE"
   ]
  },
  {
   "cell_type": "code",
   "execution_count": 29,
   "metadata": {},
   "outputs": [
    {
     "name": "stdout",
     "output_type": "stream",
     "text": [
      "No match\n",
      "ab\n",
      "abbb\n",
      "No match\n",
      "ab\n",
      "abb\n"
     ]
    }
   ],
   "source": [
    "prog = re.compile(r'ab+')\n",
    "\n",
    "print_match(\"a\")\n",
    "print_match(\"ab\")\n",
    "print_match(\"abbb\")\n",
    "print_match(\"b\")\n",
    "print_match(\"bbab\")\n",
    "print_match(\"something_abb_something\")"
   ]
  },
  {
   "cell_type": "markdown",
   "metadata": {},
   "source": [
    "#### `?` causes the resulting RE to match precisely 0 or 1 repetitions of the preceding RE"
   ]
  },
  {
   "cell_type": "code",
   "execution_count": 30,
   "metadata": {},
   "outputs": [
    {
     "name": "stdout",
     "output_type": "stream",
     "text": [
      "a\n",
      "ab\n",
      "ab\n",
      "No match\n",
      "ab\n",
      "ab\n"
     ]
    }
   ],
   "source": [
    "prog = re.compile(r'ab?')\n",
    "\n",
    "print_match(\"a\")\n",
    "print_match(\"ab\")\n",
    "print_match(\"abbb\")\n",
    "print_match(\"b\")\n",
    "print_match(\"bbab\")\n",
    "print_match(\"something_abb_something\")"
   ]
  },
  {
   "cell_type": "markdown",
   "metadata": {},
   "source": [
    "### Greedy vs. non-greedy matching\n",
    "The default behavior of regular expressions is to be greedy. That means it tries to extract as much as possible until it conforms to a pattern even when a smaller part would have been syntactically sufficient. Sometimes, this behavior is natural but in some cases you may want to match minimally. \n",
    "\n",
    "Lazy matching, on the other hand, ‘takes as little as possible’. This can be effected by adding a `?` at the end of the pattern. We show examples of such cases in the following code to illustrate the point."
   ]
  },
  {
   "cell_type": "code",
   "execution_count": 31,
   "metadata": {},
   "outputs": [
    {
     "name": "stdout",
     "output_type": "stream",
     "text": [
      "<a> b <c>\n"
     ]
    }
   ],
   "source": [
    "prog = re.compile(r'<.*>')\n",
    "print_match('<a> b <c>')"
   ]
  },
  {
   "cell_type": "code",
   "execution_count": 32,
   "metadata": {},
   "outputs": [
    {
     "name": "stdout",
     "output_type": "stream",
     "text": [
      "<a>\n"
     ]
    }
   ],
   "source": [
    "prog = re.compile(r'<.*?>')\n",
    "print_match('<a> b <c>')"
   ]
  },
  {
   "cell_type": "markdown",
   "metadata": {},
   "source": [
    "### Controlling how many repetitions to match\n",
    "\n",
    "In many situations, we want to have precise control over how many repetitions of the pattern we want to match in a text. This can be done in few ways, we show examples of such kind below,"
   ]
  },
  {
   "cell_type": "markdown",
   "metadata": {},
   "source": [
    "#### `{m}` specifies exactly `m` copies of RE to match. Fewer matches cause a non-match and returns `None`"
   ]
  },
  {
   "cell_type": "code",
   "execution_count": 33,
   "metadata": {},
   "outputs": [
    {
     "name": "stdout",
     "output_type": "stream",
     "text": [
      "AAA\n",
      "AAA\n",
      "No match\n"
     ]
    }
   ],
   "source": [
    "prog = re.compile(r'A{3}')\n",
    "\n",
    "print_match(\"ccAAAdd\")\n",
    "print_match(\"ccAAAAdd\")\n",
    "print_match(\"ccAAdd\")"
   ]
  },
  {
   "cell_type": "markdown",
   "metadata": {},
   "source": [
    "#### `{m,n}` specifies exactly `m` to `n` copies of RE to match.  Omitting `m` specifies a lower bound of zero, and omitting `n` specifies an infinite upper bound."
   ]
  },
  {
   "cell_type": "code",
   "execution_count": 34,
   "metadata": {},
   "outputs": [
    {
     "name": "stdout",
     "output_type": "stream",
     "text": [
      "AAAB\n",
      "No match\n",
      "AAB\n",
      "AAAAB\n"
     ]
    }
   ],
   "source": [
    "prog = re.compile(r'A{2,4}B')\n",
    "\n",
    "print_match(\"ccAAABdd\")\n",
    "print_match(\"ccABdd\")\n",
    "print_match(\"ccAABBBdd\")\n",
    "print_match(\"ccAAAAAAABdd\")"
   ]
  },
  {
   "cell_type": "code",
   "execution_count": 35,
   "metadata": {},
   "outputs": [
    {
     "name": "stdout",
     "output_type": "stream",
     "text": [
      "AAAB\n",
      "AB\n",
      "AAB\n",
      "AAAB\n"
     ]
    }
   ],
   "source": [
    "prog = re.compile(r'A{,3}B')\n",
    "\n",
    "print_match(\"ccAAABdd\")\n",
    "print_match(\"ccABdd\")\n",
    "print_match(\"ccAABBBdd\")\n",
    "print_match(\"ccAAAAAAABdd\")"
   ]
  },
  {
   "cell_type": "code",
   "execution_count": 36,
   "metadata": {},
   "outputs": [
    {
     "name": "stdout",
     "output_type": "stream",
     "text": [
      "AAAB\n",
      "No match\n",
      "No match\n",
      "AAAAAAAB\n"
     ]
    }
   ],
   "source": [
    "prog = re.compile(r'A{3,}B')\n",
    "\n",
    "print_match(\"ccAAABdd\")\n",
    "print_match(\"ccABdd\")\n",
    "print_match(\"ccAABBBdd\")\n",
    "print_match(\"ccAAAAAAABdd\")"
   ]
  },
  {
   "cell_type": "markdown",
   "metadata": {},
   "source": [
    "#### `{m,n}?` specifies `m` to `n` copies of RE to match in a non-greedy fashion."
   ]
  },
  {
   "cell_type": "code",
   "execution_count": 37,
   "metadata": {},
   "outputs": [
    {
     "name": "stdout",
     "output_type": "stream",
     "text": [
      "AAAA\n",
      "AA\n"
     ]
    }
   ],
   "source": [
    "prog = re.compile(r'A{2,4}')\n",
    "print_match(\"AAAAAAA\")\n",
    "\n",
    "prog = re.compile(r'A{2,4}?')\n",
    "print_match(\"AAAAAAA\")"
   ]
  },
  {
   "cell_type": "markdown",
   "metadata": {},
   "source": [
    "### Sets of matching characters\n",
    "\n",
    "To match arbitrarily complex pattern we need to be able to include logical combination of characters together as a bunch. Regex gives us that kind of capability. Following examples demonstrate such uses of regex,"
   ]
  },
  {
   "cell_type": "markdown",
   "metadata": {},
   "source": [
    "#### `[x,y,z]` matches x, y, or z"
   ]
  },
  {
   "cell_type": "code",
   "execution_count": 38,
   "metadata": {},
   "outputs": [
    {
     "name": "stdout",
     "output_type": "stream",
     "text": [
      "A\n",
      "A\n",
      "B\n",
      "No match\n"
     ]
    }
   ],
   "source": [
    "prog = re.compile(r'[A,B]')\n",
    "print_match(\"ccAd\")\n",
    "print_match(\"ccABd\")\n",
    "print_match(\"ccXdB\")\n",
    "print_match(\"ccXdZ\")"
   ]
  },
  {
   "cell_type": "markdown",
   "metadata": {},
   "source": [
    "#### A range of characters can be matched inside the set. This is one of the most widely used regex techniques!\n",
    "Suppose, we want to pick out an email address from a text. Email address are generally of the form `{some_name}@{some_domain_name}.{some_domain_identifier}`."
   ]
  },
  {
   "cell_type": "code",
   "execution_count": 39,
   "metadata": {},
   "outputs": [
    {
     "name": "stdout",
     "output_type": "stream",
     "text": [
      "coolguy@xyz.com\n",
      "No match\n"
     ]
    }
   ],
   "source": [
    "prog = re.compile(r'[a-zA-Z]+@+[a-zA-Z]+\\.com')\n",
    "\n",
    "print_match(\"My email is coolguy@xyz.com\")\n",
    "print_match(\"My email is coolguy12@xyz.com\")"
   ]
  },
  {
   "cell_type": "markdown",
   "metadata": {},
   "source": [
    "What is going on here?\n",
    "\n",
    "Look at the regex pattern inside the [ … ]. It is `a-zA-Z`. This covers all alphabets lowercase and uppercase! With this one simple regex, you are able to match any (pure) alphabetical string for that part of the email. Now, the next pattern is **`@`** which is added to the previous regex by a **`+`**. This is the way to build up a complex regex by adding/stacking up individual regex patterns. We also use the same `[a-zA-Z]` for the email domain name and add a **.com** at the end to complete the pattern as a valid email address. Why \\.? Because, by itself, DOT (.) is used as a special modifier in regex, but here we want to use DOT (.) just as DOT (.), not as a modifier. So, we need to precede it by a ‘\\’.\n",
    "\n",
    "So, with this regex, we could extract the first email address perfectly but go ‘No match’ with the second one. \n",
    "\n",
    "What happened with the second email ID?\n",
    "\n",
    "The regex could not capture it because it had a number ‘12’ in the name! That pattern is not captured by the expression [a-zA-Z].\n",
    "\n",
    "Let’s change that and add the digits as well,"
   ]
  },
  {
   "cell_type": "code",
   "execution_count": 40,
   "metadata": {},
   "outputs": [
    {
     "name": "stdout",
     "output_type": "stream",
     "text": [
      "coolguy12@xyz.com\n",
      "No match\n"
     ]
    }
   ],
   "source": [
    "prog = re.compile(r'[a-zA-Z0-9]+@+[a-zA-Z]+\\.com')\n",
    "\n",
    "print_match(\"My email is coolguy12@xyz.com\")\n",
    "print_match(\"My email is coolguy12@xyz.org\")"
   ]
  },
  {
   "cell_type": "markdown",
   "metadata": {},
   "source": [
    "Now we catch the first email ID perfectly. But what’s going on with the second one? We again got a mismatch. The reason is that we changed the **.com** to **.org** in that email and in our regex expression that portion was hard coded as .com, so it did not find a match.\n",
    "\n",
    "Let’s try to address this in the following regex,"
   ]
  },
  {
   "cell_type": "code",
   "execution_count": 41,
   "metadata": {},
   "outputs": [
    {
     "name": "stdout",
     "output_type": "stream",
     "text": [
      "coolguy12@xy2z.org\n",
      "No match\n"
     ]
    }
   ],
   "source": [
    "prog = re.compile(r'\\w+@+\\w+\\.+[a-z]{2,4}')\n",
    "print_match(\"My email is coolguy12@xy2z.org\")\n",
    "print_match(\"My email is coolguy12[AT]xyz[DOT]org\")"
   ]
  },
  {
   "cell_type": "markdown",
   "metadata": {},
   "source": [
    "In this regex, we used the fact that most domain identifiers have 2 or 3 characters, so we used `[a-zA-Z]{2,3}` to capture that.\n",
    "\n",
    "What happened with the second email ID? This is an example of the small tweaks that you can make to stay ahead of telemarketers who want to scrape online forums or any other corpus of text and extract your email ID. If you do not want your email to be found you can change @ to `[AT]` and . to `[DOT]` and hopefully that can beat some regex techniques (but not all)!\n"
   ]
  },
  {
   "cell_type": "markdown",
   "metadata": {},
   "source": [
    "### Combining forces - OR-ing of regex using `|` - let us try extracting various types of phone numbers\n",
    "\n",
    "Because regex patterns are like complex and compact logical constructors themselves, it makes perfect sense that we want to combine them to construct even more complex programs when needed. We can do that using `|` operator. Following example demonstrates the point,"
   ]
  },
  {
   "cell_type": "code",
   "execution_count": 42,
   "metadata": {},
   "outputs": [
    {
     "name": "stdout",
     "output_type": "stream",
     "text": [
      "3124567897\n",
      "No match\n"
     ]
    }
   ],
   "source": [
    "prog = re.compile(r'[0-9]{10}')\n",
    "\n",
    "print_match(\"3124567897\")\n",
    "print_match(\"312-456-7897\")"
   ]
  },
  {
   "cell_type": "markdown",
   "metadata": {},
   "source": [
    "So, here we are trying to extract patterns of 10-digit number which could be phone numbers. Note the use of `{10}` to denote exactly 10 digit number in the pattern. But the second number could not be matched for obvious reason – it had **`-`** symbols inserted in between groups of numbers. We can tackle this using multiple smaller regex and logically combining them."
   ]
  },
  {
   "cell_type": "code",
   "execution_count": 43,
   "metadata": {},
   "outputs": [
    {
     "name": "stdout",
     "output_type": "stream",
     "text": [
      "3124567897\n",
      "312-456-7897\n"
     ]
    }
   ],
   "source": [
    "prog = re.compile(r'[0-9]{10}|[0-9]{3}-[0-9]{3}-[0-9]{4}')\n",
    "\n",
    "print_match(\"3124567897\")\n",
    "print_match(\"312-456-7897\")"
   ]
  },
  {
   "cell_type": "markdown",
   "metadata": {},
   "source": [
    "Phone numbers are written in a myriad ways and if you search on the web, you will see examples of very complex regex (written not only in Python but other widely used languages for web apps like JavaScript, C++, PHP, Perl, etc.) for capturing phone numbers. Here we show some more examples just to give you a flavor,"
   ]
  },
  {
   "cell_type": "code",
   "execution_count": 47,
   "metadata": {},
   "outputs": [
    {
     "name": "stdout",
     "output_type": "stream",
     "text": [
      "3124567897\n",
      " 312-456-7897\n",
      "(312)456-7897\n",
      "312.456.7897\n",
      "+22 312-456-7897\n"
     ]
    }
   ],
   "source": [
    "p0=r'\\+*\\d*\\s[0-9]{3}-[0-9]{3}-[0-9]{4}'\n",
    "p1= r'[0-9]{10}'\n",
    "p2=r'[0-9]{3}-[0-9]{3}-[0-9]{4}'\n",
    "p3 = r'\\([0-9]{3}\\)[0-9]{3}-[0-9]{4}'\n",
    "p4 = r'[0-9]{3}\\.[0-9]{3}\\.[0-9]{4}'\n",
    "pattern= p0+'|'+p1+'|'+p2+'|'+p3+'|'+p4\n",
    "prog = re.compile(pattern)\n",
    "\n",
    "print_match(\"A phone number 3124567897\")\n",
    "print_match(\"Another phone number 312-456-7897\")\n",
    "print_match(\"(312)456-7897 is my phone number\")\n",
    "print_match(\"I gave him 312.456.7897 as the phone number\")\n",
    "print_match(\"An international number +22 312-456-7897\")"
   ]
  },
  {
   "cell_type": "markdown",
   "metadata": {},
   "source": [
    "### `findall` method finds all the occurance of the pattern and return them as a list of strings\n",
    "The last regex method that we will learn for lesson is `findall`. Essentially, this is a **search-and aggregate** method i.e. it puts all the instances that match with the regex pattern in a given text and return them in a list. This is extremely useful, as we can just count the length of the returned list to count the number of occurrences or pick and use the returned pattern-matched words one by one as we see fit.\n",
    "\n",
    "Note, that although we are giving short examples (of single sentences) in this notebook, you will often deal with large corpus of text while using regex. In that case, you are likely to get many matches from a single regex pattern search. For all those cases, `findall` method is going to be most useful."
   ]
  },
  {
   "cell_type": "code",
   "execution_count": 3,
   "metadata": {},
   "outputs": [
    {
     "name": "stdout",
     "output_type": "stream",
     "text": [
      "Here are some phone numbers. Pick out the numbers with 312 area code: \n",
      "312-423-3456, 456-334-6721, 312-5478-9999, 312-Not-a-Number,777.345.2317, 312.331.6789\n",
      "\n"
     ]
    },
    {
     "data": {
      "text/plain": [
       "['312-423-3456', '312-5478-9999', '312.331.6789']"
      ]
     },
     "execution_count": 3,
     "metadata": {},
     "output_type": "execute_result"
    }
   ],
   "source": [
    "# A multi-line string\n",
    "ph_numbers = '''Here are some phone numbers. Pick out the numbers with 312 area code: \n",
    "312-423-3456, 456-334-6721, 312-5478-9999, 312-Not-a-Number,777.345.2317, 312.331.6789\n",
    "'''\n",
    "\n",
    "print(ph_numbers)\n",
    "re.findall('312+[-\\.][0-9-\\.]+',ph_numbers)"
   ]
  },
  {
   "cell_type": "markdown",
   "metadata": {},
   "source": [
    "### Use `split()` method to extract meaningful pieces of textual data from a string"
   ]
  },
  {
   "cell_type": "code",
   "execution_count": 49,
   "metadata": {},
   "outputs": [
    {
     "data": {
      "text/plain": [
       "['Some File', '.txt']"
      ]
     },
     "execution_count": 49,
     "metadata": {},
     "output_type": "execute_result"
    }
   ],
   "source": [
    "text = \"Some File.Ver10.Rev2.txt\"\n",
    "re.split('\\.Ver\\d+\\.Rev\\d+',text)"
   ]
  },
  {
   "cell_type": "code",
   "execution_count": 50,
   "metadata": {},
   "outputs": [
    {
     "data": {
      "text/plain": [
       "'A very very irregular sentence'"
      ]
     },
     "execution_count": 50,
     "metadata": {},
     "output_type": "execute_result"
    }
   ],
   "source": [
    "sentence = \"\"\"A, very   very; irregular_sentence\"\"\"\n",
    "\" \".join(re.split('[;,\\s_]+', sentence))"
   ]
  }
 ],
 "metadata": {
  "kernelspec": {
   "display_name": "Python 3",
   "language": "python",
   "name": "python3"
  },
  "language_info": {
   "codemirror_mode": {
    "name": "ipython",
    "version": 3
   },
   "file_extension": ".py",
   "mimetype": "text/x-python",
   "name": "python",
   "nbconvert_exporter": "python",
   "pygments_lexer": "ipython3",
   "version": "3.6.2"
  },
  "latex_envs": {
   "LaTeX_envs_menu_present": true,
   "autoclose": false,
   "autocomplete": true,
   "bibliofile": "biblio.bib",
   "cite_by": "apalike",
   "current_citInitial": 1,
   "eqLabelWithNumbers": true,
   "eqNumInitial": 1,
   "hotkeys": {
    "equation": "Ctrl-E",
    "itemize": "Ctrl-I"
   },
   "labels_anchors": false,
   "latex_user_defs": false,
   "report_style_numbering": false,
   "user_envs_cfg": false
  }
 },
 "nbformat": 4,
 "nbformat_minor": 2
}
