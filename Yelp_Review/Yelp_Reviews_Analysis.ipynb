{
 "cells": [
  {
   "cell_type": "code",
   "execution_count": 50,
   "metadata": {},
   "outputs": [],
   "source": [
    "import pandas as pd\n",
    "import numpy as np\n",
    "import matplotlib.pyplot as plt\n",
    "import re\n",
    "import requests\n",
    "import os"
   ]
  },
  {
   "cell_type": "code",
   "execution_count": 51,
   "metadata": {},
   "outputs": [],
   "source": [
    "def build_url(place=None):\n",
    "    \n",
    "    if place==None:\n",
    "        place = input(\"Please enter the name of the place (city, State) you want to search restaurants in (e.g. \\\"Fremont, CA\\\"): \")\n",
    "    \n",
    "    lst = [x.strip() for x in place.split(',')]\n",
    "    if len(lst[0].split())>1:\n",
    "        lst[0] ='+'.join(lst[0].split())\n",
    "    \n",
    "    baseurl = 'https://www.yelp.com/search?find_desc=Restaurants&find_loc='\n",
    "    url = baseurl +lst[0]+',+'+lst[1]\n",
    "    \n",
    "    return (url,place)"
   ]
  },
  {
   "cell_type": "code",
   "execution_count": 52,
   "metadata": {},
   "outputs": [],
   "source": [
    "def query_restaurant(num_restaurant,place=None):\n",
    "    \n",
    "    import urllib.request, urllib.parse, urllib.error\n",
    "    from bs4 import BeautifulSoup\n",
    "    import ssl\n",
    "    import pandas as pd\n",
    "    \n",
    "    num_loop_restaurant = 1+int(num_restaurant/11)\n",
    "    \n",
    "    if place==None:\n",
    "        url,_ = build_url()\n",
    "    else:\n",
    "        url,_ = build_url(place)\n",
    "    \n",
    "    if num_loop_restaurant==1:\n",
    "        soup=read_soup_HTML(url)\n",
    "        restaurant_names = build_restaurant_names(soup)\n",
    "        restaurant_links = build_restaurant_links(soup)\n",
    "    else:\n",
    "        soup=read_soup_HTML(url)\n",
    "        restaurant_names = build_restaurant_names(soup)\n",
    "        restaurant_links = build_restaurant_links(soup)\n",
    "        for i in range(1,num_loop_restaurant):\n",
    "            url = url+'&start='+str(i*10)\n",
    "            soup=read_soup_HTML(url)\n",
    "            restaurant_names.extend(build_restaurant_names(soup))\n",
    "            restaurant_links.extend(build_restaurant_links(soup))\n",
    "    \n",
    "    df=pd.DataFrame(data={'Link':restaurant_links,'Name':restaurant_names})\n",
    "    #print(df.iloc[:num_restaurant])\n",
    "    print(\"\\n Top restaurants found\\n\"+\"-\"*100)\n",
    "    for name in restaurant_names[:num_restaurant]:\n",
    "        print(name,end=', ')\n",
    "    \n",
    "    return df.iloc[:num_restaurant]"
   ]
  },
  {
   "cell_type": "code",
   "execution_count": 53,
   "metadata": {},
   "outputs": [],
   "source": [
    "def read_soup_HTML(url):\n",
    "    \n",
    "    import urllib.request, urllib.parse, urllib.error\n",
    "    from bs4 import BeautifulSoup\n",
    "    import ssl\n",
    "\n",
    "    # Ignore SSL certificate errors\n",
    "    ctx = ssl.create_default_context()\n",
    "    ctx.check_hostname = False\n",
    "    ctx.verify_mode = ssl.CERT_NONE\n",
    "\n",
    "    # Read the HTML from the URL and pass on to BeautifulSoup\n",
    "    #print(\"Opening the page\", url)\n",
    "    uh= urllib.request.urlopen(url, context=ctx)\n",
    "    html =uh.read()\n",
    "    soup = BeautifulSoup(html, 'html.parser')\n",
    "    return soup"
   ]
  },
  {
   "cell_type": "code",
   "execution_count": 54,
   "metadata": {},
   "outputs": [],
   "source": [
    "def build_restaurant_names (soup):\n",
    "    restaurant_names = []\n",
    "    for span in soup.find_all('span'):\n",
    "        if 'class' in span.attrs:\n",
    "            if span.attrs['class']==['indexed-biz-name']:\n",
    "                restaurant_names.append(span.contents[1].get_text())\n",
    "    \n",
    "    return restaurant_names"
   ]
  },
  {
   "cell_type": "code",
   "execution_count": 55,
   "metadata": {},
   "outputs": [],
   "source": [
    "def build_restaurant_links (soup):\n",
    "    restaurant_links=[]\n",
    "    for a in soup.find_all('a'):\n",
    "        if 'class' in a.attrs:\n",
    "            #print(a.attrs)\n",
    "            if a.attrs['class']==['js-analytics-click']:\n",
    "                restaurant_links.append(a.attrs['href'])\n",
    "    _=restaurant_links.pop(0)\n",
    "    \n",
    "    for i in range(len(restaurant_links)):\n",
    "        link='https://yelp.com'+restaurant_links[i]\n",
    "        restaurant_links[i]=link\n",
    "    \n",
    "    return restaurant_links"
   ]
  },
  {
   "cell_type": "code",
   "execution_count": 56,
   "metadata": {},
   "outputs": [],
   "source": [
    "def gather_reviews(df,num_reviews):\n",
    "    \n",
    "    reviews={}\n",
    "    num_links=df.shape[0]\n",
    "    num_loop_reviews = 1+int(num_reviews/21)\n",
    "    \n",
    "    print(\"\\n\")\n",
    "    \n",
    "    for i in range(num_links):\n",
    "        print(f\"Gathering top reviews on {df.iloc[i]['Name']} now...\")\n",
    "        \n",
    "        if num_loop_reviews==1:\n",
    "            review_text=[]\n",
    "            url=df.iloc[i]['Link']\n",
    "            soup=read_soup_HTML(url)\n",
    "            for p in soup.find_all('p'):\n",
    "                if 'itemprop' in p.attrs:\n",
    "                    if p.attrs['itemprop']=='description':\n",
    "                        text=p.get_text().strip()\n",
    "                        review_text.append(text)\n",
    "        else:\n",
    "            review_text=[]\n",
    "            url=df.iloc[i]['Link']\n",
    "            soup=read_soup_HTML(url)\n",
    "            for p in soup.find_all('p'):\n",
    "                if 'itemprop' in p.attrs:\n",
    "                    if p.attrs['itemprop']=='description':\n",
    "                        text=p.get_text().strip()\n",
    "                        review_text.append(text)\n",
    "            for i in range(1,num_loop_reviews):\n",
    "                url=df.iloc[i]['Link']+'?start='+str(20*i)\n",
    "                soup=read_soup_HTML(url)\n",
    "                for p in soup.find_all('p'):\n",
    "                    if 'itemprop' in p.attrs:\n",
    "                        if p.attrs['itemprop']=='description':\n",
    "                            text=p.get_text().strip()\n",
    "                            review_text.append(text)\n",
    "        \n",
    "        reviews[df.iloc[i]['Name']]=review_text[:num_reviews]\n",
    "        print(f\"Reviews for {df.iloc[i]['Name']} gathered.\\n\"+\"-\"*60)\n",
    "    \n",
    "    return reviews"
   ]
  },
  {
   "cell_type": "code",
   "execution_count": 57,
   "metadata": {},
   "outputs": [],
   "source": [
    "def get_reviews(num_restaurant=10,num_reviews=20,place=None):\n",
    "    if place==None:\n",
    "        df_restaurants = query_restaurant(num_restaurant=num_restaurant)\n",
    "    else:\n",
    "        df_restaurants = query_restaurant(num_restaurant=num_restaurant,place=place)\n",
    "    \n",
    "    reviews = gather_reviews(df_restaurants,num_reviews=num_reviews)\n",
    "    \n",
    "    return reviews"
   ]
  },
  {
   "cell_type": "markdown",
   "metadata": {},
   "source": [
    "### Test cases"
   ]
  },
  {
   "cell_type": "code",
   "execution_count": 77,
   "metadata": {
    "scrolled": false
   },
   "outputs": [
    {
     "name": "stdout",
     "output_type": "stream",
     "text": [
      "\n",
      " Top restaurants found\n",
      "----------------------------------------------------------------------------------------------------\n",
      "The Table, Braise, The Funny Farm, Pot Belly Ramen, The Grandview Restaurant, \n",
      "\n",
      "Gathering top reviews on The Table now...\n",
      "Reviews for The Table gathered.\n",
      "------------------------------------------------------------\n",
      "Gathering top reviews on Braise now...\n",
      "Reviews for Braise gathered.\n",
      "------------------------------------------------------------\n",
      "Gathering top reviews on The Funny Farm now...\n",
      "Reviews for The Funny Farm gathered.\n",
      "------------------------------------------------------------\n",
      "Gathering top reviews on Pot Belly Ramen now...\n",
      "Reviews for Pot Belly Ramen gathered.\n",
      "------------------------------------------------------------\n",
      "Gathering top reviews on The Grandview Restaurant now...\n",
      "Reviews for The Grandview Restaurant gathered.\n",
      "------------------------------------------------------------\n"
     ]
    }
   ],
   "source": [
    "rev = get_reviews(num_restaurant=5,num_reviews=20,place='San Jose, CA')"
   ]
  },
  {
   "cell_type": "code",
   "execution_count": 78,
   "metadata": {},
   "outputs": [
    {
     "data": {
      "text/plain": [
       "dict_keys(['The Table', 'Braise', 'The Funny Farm', 'Pot Belly Ramen', 'The Grandview Restaurant'])"
      ]
     },
     "execution_count": 78,
     "metadata": {},
     "output_type": "execute_result"
    }
   ],
   "source": [
    "rev.keys()"
   ]
  },
  {
   "cell_type": "markdown",
   "metadata": {},
   "source": [
    "## Text from reviews"
   ]
  },
  {
   "cell_type": "code",
   "execution_count": 81,
   "metadata": {},
   "outputs": [],
   "source": [
    "def text_from_reviews(review_dict):\n",
    "    \n",
    "    text=\"\"\n",
    "    \n",
    "    for restaurant in review_dict:\n",
    "        text+=('\\n'.join(review_dict[restaurant]))\n",
    "    \n",
    "    return text"
   ]
  },
  {
   "cell_type": "code",
   "execution_count": 62,
   "metadata": {},
   "outputs": [],
   "source": [
    "def text_reviews_city(place=None,num_restaurant=10,num_reviews=20):\n",
    "    \n",
    "    if place==None:\n",
    "        review_dict=get_reviews(num_restaurant=num_restaurant,num_reviews=num_reviews)\n",
    "    else:\n",
    "        review_dict=get_reviews(num_restaurant=num_restaurant,num_reviews=num_reviews,place=place)\n",
    "    \n",
    "    text=\"\"\n",
    "    \n",
    "    for restaurant in review_dict:\n",
    "        text_restaurant = '\\n'.join(review_dict[restaurant])\n",
    "        text+=text_restaurant\n",
    "    \n",
    "    return text"
   ]
  },
  {
   "cell_type": "code",
   "execution_count": 86,
   "metadata": {},
   "outputs": [
    {
     "name": "stdout",
     "output_type": "stream",
     "text": [
      "\n",
      " Top restaurants found\n",
      "----------------------------------------------------------------------------------------------------\n",
      "The Purple Pig, Girl & the Goat, Fusion 58, Au Cheval, Little Bad Wolf, \n",
      "\n",
      "Gathering top reviews on The Purple Pig now...\n",
      "Reviews for The Purple Pig gathered.\n",
      "------------------------------------------------------------\n",
      "Gathering top reviews on Girl & the Goat now...\n",
      "Reviews for Girl & the Goat gathered.\n",
      "------------------------------------------------------------\n",
      "Gathering top reviews on Fusion 58 now...\n",
      "Reviews for Fusion 58 gathered.\n",
      "------------------------------------------------------------\n",
      "Gathering top reviews on Au Cheval now...\n",
      "Reviews for Au Cheval gathered.\n",
      "------------------------------------------------------------\n",
      "Gathering top reviews on Little Bad Wolf now...\n",
      "Reviews for Little Bad Wolf gathered.\n",
      "------------------------------------------------------------\n"
     ]
    }
   ],
   "source": [
    "text=text_reviews_city(place='Chicago, IL',num_restaurant=5,num_reviews=5)"
   ]
  },
  {
   "cell_type": "code",
   "execution_count": 87,
   "metadata": {},
   "outputs": [
    {
     "name": "stdout",
     "output_type": "stream",
     "text": [
      "25056\n"
     ]
    }
   ],
   "source": [
    "print(len(text))"
   ]
  },
  {
   "cell_type": "markdown",
   "metadata": {},
   "source": [
    "## Naive summary"
   ]
  },
  {
   "cell_type": "code",
   "execution_count": 88,
   "metadata": {},
   "outputs": [],
   "source": [
    "def build_naive_summary(text):\n",
    "    \n",
    "    from nltk.tokenize import word_tokenize\n",
    "    from nltk.tokenize import sent_tokenize\n",
    "    from nltk.probability import FreqDist\n",
    "    from nltk.corpus import stopwords\n",
    "    from collections import OrderedDict\n",
    "    \n",
    "    summary_sentences = []\n",
    "    candidate_sentences = {}\n",
    "    candidate_sentence_counts = {}\n",
    "    striptext = text.replace('\\n\\n', ' ')\n",
    "    striptext = striptext.replace('\\n', ' ')\n",
    "    words = word_tokenize(striptext)\n",
    "    lowercase_words = [word.lower() for word in words\n",
    "                      if word not in stopwords.words() and word.isalpha()]\n",
    "    word_frequencies = FreqDist(lowercase_words)\n",
    "    most_frequent_words = FreqDist(lowercase_words).most_common(20)\n",
    "    sentences = sent_tokenize(striptext)\n",
    "    \n",
    "    for sentence in sentences:\n",
    "        candidate_sentences[sentence] = sentence.lower()\n",
    "    for long, short in candidate_sentences.items():\n",
    "        count = 0\n",
    "        for freq_word, frequency_score in most_frequent_words:\n",
    "            if freq_word in short:\n",
    "                count += frequency_score\n",
    "                candidate_sentence_counts[long] = count   \n",
    "    \n",
    "    sorted_sentences = OrderedDict(sorted(\n",
    "                        candidate_sentence_counts.items(),\n",
    "                        key = lambda x: x[1],\n",
    "                        reverse = True)[:4])\n",
    "    \n",
    "    return sorted_sentences   "
   ]
  },
  {
   "cell_type": "code",
   "execution_count": 89,
   "metadata": {},
   "outputs": [
    {
     "name": "stdout",
     "output_type": "stream",
     "text": [
      "OrderedDict([('The one thing I would have appreciated is that the burgers/sliders, while delicious, came only with American cheese.', 331), ('The menu is small, but the dishes are delicious with chicken, beef, and seafood.', 314), (\"The taste was bland on all three dishes we had chicken boti,grilled salmon, and Bihari kabob...I tried to ask him questions about his experience so far in the neighborhood and his reply was very arrogant like I don't care what people eat in this neighborhood my food is the best, ugh just left a nasty taste in my mouth I give this place a few month to shutter his foods not worth the $13 avg pp he wants to charge.\", 312), ('This is a perfect place to go with a group of people in order to try all their delicious dishes.', 309)])\n"
     ]
    }
   ],
   "source": [
    "summary = build_naive_summary(text)\n",
    "print(summary)"
   ]
  },
  {
   "cell_type": "markdown",
   "metadata": {},
   "source": [
    "## Gensim summarization"
   ]
  },
  {
   "cell_type": "code",
   "execution_count": 90,
   "metadata": {},
   "outputs": [],
   "source": [
    "summary_sentences = []\n",
    "candidate_sentences = {}\n",
    "candidate_sentence_counts = {}\n",
    "striptext = text.replace('\\n\\n', ' ')\n",
    "striptext = striptext.replace('\\n', ' ')"
   ]
  },
  {
   "cell_type": "code",
   "execution_count": 91,
   "metadata": {},
   "outputs": [],
   "source": [
    "import gensim.summarization"
   ]
  },
  {
   "cell_type": "code",
   "execution_count": 92,
   "metadata": {},
   "outputs": [
    {
     "name": "stdout",
     "output_type": "stream",
     "text": [
      "This is a perfect place to go with a group of people in order to try all their delicious dishes.\n",
      "Ordered the Buttersquash Empanadas (black truffle oil, squash, cheese filling with apple sauce demiglaze and the cutest melted marshmallow pillow on a cinnamon stick), Pork Ossabuco, Red Snapper on red cabbage sauce, Octopus with potatoes and asparagus, and a Fried Hash & Chorizo dish I cannot remember the name of.\n"
     ]
    }
   ],
   "source": [
    "summary = gensim.summarization.summarize(striptext, word_count=100) \n",
    "print(summary)"
   ]
  },
  {
   "cell_type": "markdown",
   "metadata": {},
   "source": [
    "## Dispersion plot"
   ]
  },
  {
   "cell_type": "code",
   "execution_count": 94,
   "metadata": {},
   "outputs": [
    {
     "name": "stdout",
     "output_type": "stream",
     "text": [
      "\n",
      " Top restaurants found\n",
      "----------------------------------------------------------------------------------------------------\n",
      "La Bodeguita Del Medio, Dumpling City, Evvia Estiatorio, Coconuts Caribbean Restaurant & Bar, Bevri, So Gong Dong Tofu House, Hidden Garden Sushi, True Food Kitchen, Bird Dog, Tamarine Restaurant, \n",
      "\n",
      "Gathering top reviews on La Bodeguita Del Medio now...\n",
      "Reviews for La Bodeguita Del Medio gathered.\n",
      "------------------------------------------------------------\n",
      "Gathering top reviews on Dumpling City now...\n",
      "Reviews for Dumpling City gathered.\n",
      "------------------------------------------------------------\n",
      "Gathering top reviews on Evvia Estiatorio now...\n",
      "Reviews for Evvia Estiatorio gathered.\n",
      "------------------------------------------------------------\n",
      "Gathering top reviews on Coconuts Caribbean Restaurant & Bar now...\n",
      "Reviews for Coconuts Caribbean Restaurant & Bar gathered.\n",
      "------------------------------------------------------------\n",
      "Gathering top reviews on Bevri now...\n",
      "Reviews for Bevri gathered.\n",
      "------------------------------------------------------------\n",
      "Gathering top reviews on So Gong Dong Tofu House now...\n",
      "Reviews for So Gong Dong Tofu House gathered.\n",
      "------------------------------------------------------------\n",
      "Gathering top reviews on Hidden Garden Sushi now...\n",
      "Reviews for Hidden Garden Sushi gathered.\n",
      "------------------------------------------------------------\n",
      "Gathering top reviews on True Food Kitchen now...\n",
      "Reviews for True Food Kitchen gathered.\n",
      "------------------------------------------------------------\n",
      "Gathering top reviews on Bird Dog now...\n",
      "Reviews for Bird Dog gathered.\n",
      "------------------------------------------------------------\n",
      "Gathering top reviews on Tamarine Restaurant now...\n",
      "Reviews for Tamarine Restaurant gathered.\n",
      "------------------------------------------------------------\n"
     ]
    }
   ],
   "source": [
    "text=text_reviews_city(place='Palo Alto, CA',num_restaurant=10,num_reviews=20)"
   ]
  },
  {
   "cell_type": "code",
   "execution_count": 95,
   "metadata": {},
   "outputs": [
    {
     "data": {
      "image/png": "[encoded data removed]",
      "text/plain": [
       "<matplotlib.figure.Figure at 0x1ba81391668>"
      ]
     },
     "metadata": {},
     "output_type": "display_data"
    }
   ],
   "source": [
    "from nltk.stem.porter import PorterStemmer\n",
    "import nltk\n",
    "from nltk import sent_tokenize,word_tokenize\n",
    "\n",
    "p_stemmer = PorterStemmer()\n",
    "striptext = text.replace('\\n\\n', ' ')\n",
    "striptext = striptext.replace('\\n', ' ')\n",
    "sentences = sent_tokenize(striptext)\n",
    "words = word_tokenize(striptext)\n",
    "text_for_dispersion = nltk.Text([p_stemmer.stem(i).lower() for i in words])\n",
    "text_for_dispersion.dispersion_plot(['beef','meat','chicken','ramen','sushi','steak'])"
   ]
  },
  {
   "cell_type": "markdown",
   "metadata": {},
   "source": [
    "## Vader Sentiment Analysis"
   ]
  },
  {
   "cell_type": "code",
   "execution_count": 97,
   "metadata": {
    "scrolled": false
   },
   "outputs": [],
   "source": [
    "from vaderSentiment.vaderSentiment import SentimentIntensityAnalyzer"
   ]
  },
  {
   "cell_type": "markdown",
   "metadata": {},
   "source": [
    "### Run a Gensim summarization on the large text and then try sentiment analysis"
   ]
  },
  {
   "cell_type": "code",
   "execution_count": 98,
   "metadata": {},
   "outputs": [],
   "source": [
    "striptext = text.replace('\\n\\n', ' ')\n",
    "striptext = striptext.replace('\\n', ' ')\n",
    "import gensim.summarization\n",
    "summary = gensim.summarization.summarize(striptext, word_count=500)"
   ]
  },
  {
   "cell_type": "code",
   "execution_count": 101,
   "metadata": {
    "scrolled": false
   },
   "outputs": [
    {
     "name": "stdout",
     "output_type": "stream",
     "text": [
      "We went here for lunch and want to order food but the place wasn't ready to handle too many customers.\n",
      "0.053 0.122 0.825\n",
      "The server was really friendly and got us started with ice cold Ouzo :) For appetizers we ordered a lamb dish which was the special of the day.\n",
      "0.277 0.0 0.723\n",
      "We both got grilled lamb chops-- ordered medium rare and medium because we knew some places may not get it perfectly done...came out medium and medium well but we enjoyed it flavor wise.\n",
      "0.246 0.053 0.702\n",
      "Mushrooms, fried little fish appertizers taste amazing!Good place specially if you are sitting outside.\n",
      "0.0 0.0 1.0\n",
      "Overall service was good, they were attentive and food wasn't over the top but I'd definitely come back for appetizers and drinks!\n",
      "0.222 0.05 0.728\n",
      "We went for an early dinner and we were one of the few tables there so food service was timely (20 minutes for our order).\n",
      "0.0 0.0 1.0\n",
      "Beet salad was so fresh & beautiful  Khachapuris were heavenly Lamb chops delicious w just enough tenderness & char Borscht lighter than expected but also good And appetizer dumplings were juicy & wonderful  Imported pear soda & Georgian wine & beers were quite good & inexpensive The free birthday dessert was a lovely surprise & unlike the cursory cheap freebie one might find at most restaurants- it was a dense cake w edible flower & fresh berries  Absolutely planning to return again.\n",
      "0.434 0.014 0.552\n",
      "The service was great as well - friendly and brought the food out in a good order.\n",
      "0.528 0.0 0.472\n",
      "(although some times can be not consistent) Came here on Saturday 12pm and it was busy but since the staff take your order while you wait, by the time you are seated it is not long before you are served food.\n",
      "0.0 0.0 1.0\n",
      "Nondescript \"Tofu House\" storefront (with a cute logo, none less) Darn good Korean food (with japchae as a complementary side dish) Parking lot (in Palo Alto!)\n",
      "0.119 0.087 0.794\n",
      "Being the Bay Area, it's no surprise that SGD serves very authentic soondubu with none less than organic tofu.\n",
      "0.099 0.103 0.798\n",
      "As I said in a prior review - the food here is good and in restaurant dining is fine but if you plan to order takeout from this place you have been warned - they have a knack for getting it wrong, which really sucks.\n",
      "0.069 0.215 0.717\n",
      "I have to say they have great service here, but unfortunately the food I ordered wasn't as delicious as I expected.\n",
      "0.103 0.288 0.609\n",
      "I really like how consistent each restaurant was -- and how delicious all the food tastes.\n",
      "0.333 0.0 0.667\n",
      "We ordered: - garlic noodle(good) - beef cubes(very good) - dumpling(decent) - seabass(very good) Lovely restaurant - a little pricey for what you get but overall the food was tasty and so were the drinks.\n",
      "0.079 0.0 0.921\n",
      "Coming from San Jose (I know that real good Vietnamese food) - I'd rather go to one of the many local authentic Vietnamese restaurants here, order the same dish - get huge portions (with leftovers to take home) + more flavor + pay less than half the price.\n",
      "0.109 0.035 0.856\n"
     ]
    }
   ],
   "source": [
    "from nltk.tokenize import sent_tokenize\n",
    "\n",
    "headers = ['pos','neg','neu','compound']\n",
    "analyzer = SentimentIntensityAnalyzer()\n",
    "sentences = sent_tokenize(summary)\n",
    "pos=compound=neu=neg=0\n",
    "for sentence in sentences:\n",
    "    print(sentence)\n",
    "    vs = analyzer.polarity_scores(sentence)\n",
    "    #pos+=vs['pos']/(len(sentences))\n",
    "    #compound+=vs['compound']/(len(sentences))\n",
    "    #neu+=vs['neu']/(len(sentences))\n",
    "    #neg+=vs['neg']/(len(sentences))\n",
    "    print(str(vs['pos']),str(vs['neg']),str(vs['neu']))"
   ]
  }
 ],
 "metadata": {
  "kernelspec": {
   "display_name": "Python 3",
   "language": "python",
   "name": "python3"
  },
  "language_info": {
   "codemirror_mode": {
    "name": "ipython",
    "version": 3
   },
   "file_extension": ".py",
   "mimetype": "text/x-python",
   "name": "python",
   "nbconvert_exporter": "python",
   "pygments_lexer": "ipython3",
   "version": "3.6.2"
  },
  "latex_envs": {
   "LaTeX_envs_menu_present": true,
   "autoclose": false,
   "autocomplete": true,
   "bibliofile": "biblio.bib",
   "cite_by": "apalike",
   "current_citInitial": 1,
   "eqLabelWithNumbers": true,
   "eqNumInitial": 1,
   "hotkeys": {
    "equation": "Ctrl-E",
    "itemize": "Ctrl-I"
   },
   "labels_anchors": false,
   "latex_user_defs": false,
   "report_style_numbering": false,
   "user_envs_cfg": false
  }
 },
 "nbformat": 4,
 "nbformat_minor": 2
}
