{
 "cells": [
  {
   "cell_type": "markdown",
   "metadata": {},
   "source": [
    "# Notebook on how to read/parse data from XML (local file or over the internet)\n",
    "\n",
    "XML stands for **eXtensible Markup Language**.\n",
    "\n",
    "It is a markup language for web applications, much like its better-known cousin HTML. It was designed to store and transport data and to be completely self-descriptive. The core idea of XML is prominently displayed in its name – **extensibility**. While HTML has a set of rigid standards and fixed tags, XML lets a designer define her own tags, their order of appearance in a data structure, and even how they should be displayed or processed.\n",
    "\n",
    "Fundamentally, it is a textual data format with built-in support (via Unicode) for the widest variety of natural languages. Although the design of XML focuses on documentation building, it is widely used for the representation of a variety of data structures which are used in modern day web services, API, RESTful microservices. In that regard, along with the JSON , XML is one of the most frequently encountered data exchange format over the web.\n",
    "\n",
    "Check this **[\"A Really, Really, Really Good Introduction to XML\"](https://www.sitepoint.com/really-good-introduction-xml/)**"
   ]
  },
  {
   "cell_type": "markdown",
   "metadata": {},
   "source": [
    "### We will use Python's built-in `XML` module to parse data"
   ]
  },
  {
   "cell_type": "code",
   "execution_count": 3,
   "metadata": {},
   "outputs": [],
   "source": [
    "import xml.etree.ElementTree as ET"
   ]
  },
  {
   "cell_type": "markdown",
   "metadata": {},
   "source": [
    "### Create some random data yourself to understand the XML data format better"
   ]
  },
  {
   "cell_type": "code",
   "execution_count": 4,
   "metadata": {},
   "outputs": [],
   "source": [
    "data = '''\n",
    "<person>\n",
    "  <name>Dave</name>\n",
    "  <surname>Piccardo</surname>\n",
    "  <phone type=\"intl\">\n",
    "     +1 742 101 4456\n",
    "   </phone>\n",
    "   <email hide=\"yes\">\n",
    "   dave.p@gmail.com</email>\n",
    "</person>'''"
   ]
  },
  {
   "cell_type": "code",
   "execution_count": 5,
   "metadata": {},
   "outputs": [
    {
     "name": "stdout",
     "output_type": "stream",
     "text": [
      "\n",
      "<person>\n",
      "  <name>Dave</name>\n",
      "  <surname>Piccardo</surname>\n",
      "  <phone type=\"intl\">\n",
      "     +1 742 101 4456\n",
      "   </phone>\n",
      "   <email hide=\"yes\">\n",
      "   dave.p@gmail.com</email>\n",
      "</person>\n"
     ]
    }
   ],
   "source": [
    "print(data)"
   ]
  },
  {
   "cell_type": "code",
   "execution_count": 6,
   "metadata": {},
   "outputs": [
    {
     "data": {
      "text/plain": [
       "str"
      ]
     },
     "execution_count": 6,
     "metadata": {},
     "output_type": "execute_result"
    }
   ],
   "source": [
    "type(data)"
   ]
  },
  {
   "cell_type": "markdown",
   "metadata": {},
   "source": [
    "### Read the string data as an XML `Element` object "
   ]
  },
  {
   "cell_type": "code",
   "execution_count": 7,
   "metadata": {},
   "outputs": [],
   "source": [
    "tree = ET.fromstring(data)"
   ]
  },
  {
   "cell_type": "code",
   "execution_count": 8,
   "metadata": {},
   "outputs": [
    {
     "data": {
      "text/plain": [
       "xml.etree.ElementTree.Element"
      ]
     },
     "execution_count": 8,
     "metadata": {},
     "output_type": "execute_result"
    }
   ],
   "source": [
    "type(tree)"
   ]
  },
  {
   "cell_type": "markdown",
   "metadata": {},
   "source": [
    "### Find various elements of data within the tree (element)"
   ]
  },
  {
   "cell_type": "code",
   "execution_count": 9,
   "metadata": {},
   "outputs": [
    {
     "name": "stdout",
     "output_type": "stream",
     "text": [
      "Name: Dave\n"
     ]
    }
   ],
   "source": [
    "# Print the name of the person\n",
    "print('Name:', tree.find('name').text)"
   ]
  },
  {
   "cell_type": "code",
   "execution_count": 10,
   "metadata": {},
   "outputs": [
    {
     "name": "stdout",
     "output_type": "stream",
     "text": [
      "Surname: Piccardo\n"
     ]
    }
   ],
   "source": [
    "# Print the surname\n",
    "print('Surname:', tree.find('surname').text)"
   ]
  },
  {
   "cell_type": "code",
   "execution_count": 11,
   "metadata": {},
   "outputs": [
    {
     "name": "stdout",
     "output_type": "stream",
     "text": [
      "Phone: +1 742 101 4456\n"
     ]
    }
   ],
   "source": [
    "# Print the phone number\n",
    "print('Phone:', tree.find('phone').text.strip())"
   ]
  },
  {
   "cell_type": "code",
   "execution_count": 12,
   "metadata": {},
   "outputs": [
    {
     "name": "stdout",
     "output_type": "stream",
     "text": [
      "Email hidden: yes\n",
      "Email: dave.p@gmail.com\n"
     ]
    }
   ],
   "source": [
    "# Print email status and the actual email\n",
    "print('Email hidden:', tree.find('email').get('hide'))\n",
    "print('Email:', tree.find('email').text.strip())"
   ]
  },
  {
   "cell_type": "markdown",
   "metadata": {},
   "source": [
    "### Read from a local XML file (perhaps downloaded) into an `ElementTree` object"
   ]
  },
  {
   "cell_type": "code",
   "execution_count": 17,
   "metadata": {},
   "outputs": [],
   "source": [
    "tree2=ET.parse('xml1.xml')"
   ]
  },
  {
   "cell_type": "code",
   "execution_count": 18,
   "metadata": {},
   "outputs": [
    {
     "data": {
      "text/plain": [
       "xml.etree.ElementTree.ElementTree"
      ]
     },
     "execution_count": 18,
     "metadata": {},
     "output_type": "execute_result"
    }
   ],
   "source": [
    "type(tree2)"
   ]
  },
  {
   "cell_type": "markdown",
   "metadata": {},
   "source": [
    "### How to 'traverse' the tree? Find the `root` and explore all `child` nodes and their `attributes`"
   ]
  },
  {
   "cell_type": "code",
   "execution_count": 19,
   "metadata": {},
   "outputs": [],
   "source": [
    "root=tree2.getroot()"
   ]
  },
  {
   "cell_type": "code",
   "execution_count": 20,
   "metadata": {},
   "outputs": [
    {
     "name": "stdout",
     "output_type": "stream",
     "text": [
      "Child tag: country1 | Child attribute: {'name': 'Norway'}\n",
      "Child tag: country2 | Child attribute: {'name': 'Austria'}\n",
      "Child tag: country3 | Child attribute: {'name': 'Israel'}\n"
     ]
    }
   ],
   "source": [
    "for child in root:\n",
    "    print (\"Child tag:\",child.tag, \"| Child attribute:\",child.attrib)"
   ]
  },
  {
   "cell_type": "markdown",
   "metadata": {},
   "source": [
    "### Use the `.text()` method to extract meaningful data"
   ]
  },
  {
   "cell_type": "code",
   "execution_count": 28,
   "metadata": {},
   "outputs": [
    {
     "data": {
      "text/plain": [
       "<Element 'gdppc' at 0x00000000051FF278>"
      ]
     },
     "execution_count": 28,
     "metadata": {},
     "output_type": "execute_result"
    }
   ],
   "source": [
    "root[0][2]"
   ]
  },
  {
   "cell_type": "code",
   "execution_count": 26,
   "metadata": {},
   "outputs": [
    {
     "data": {
      "text/plain": [
       "'70617'"
      ]
     },
     "execution_count": 26,
     "metadata": {},
     "output_type": "execute_result"
    }
   ],
   "source": [
    "root[0][2].text"
   ]
  },
  {
   "cell_type": "code",
   "execution_count": 22,
   "metadata": {},
   "outputs": [
    {
     "data": {
      "text/plain": [
       "'gdppc'"
      ]
     },
     "execution_count": 22,
     "metadata": {},
     "output_type": "execute_result"
    }
   ],
   "source": [
    "root[0][2].tag"
   ]
  },
  {
   "cell_type": "code",
   "execution_count": 23,
   "metadata": {},
   "outputs": [
    {
     "data": {
      "text/plain": [
       "<Element 'country1' at 0x00000000050298B8>"
      ]
     },
     "execution_count": 23,
     "metadata": {},
     "output_type": "execute_result"
    }
   ],
   "source": [
    "root[0]"
   ]
  },
  {
   "cell_type": "code",
   "execution_count": 24,
   "metadata": {},
   "outputs": [
    {
     "data": {
      "text/plain": [
       "'country1'"
      ]
     },
     "execution_count": 24,
     "metadata": {},
     "output_type": "execute_result"
    }
   ],
   "source": [
    "root[0].tag"
   ]
  },
  {
   "cell_type": "code",
   "execution_count": 25,
   "metadata": {},
   "outputs": [
    {
     "data": {
      "text/plain": [
       "{'name': 'Norway'}"
      ]
     },
     "execution_count": 25,
     "metadata": {},
     "output_type": "execute_result"
    }
   ],
   "source": [
    "root[0].attrib"
   ]
  },
  {
   "cell_type": "markdown",
   "metadata": {},
   "source": [
    "### Write a loop to extract and print the GDP/per capita information against each country "
   ]
  },
  {
   "cell_type": "code",
   "execution_count": 26,
   "metadata": {},
   "outputs": [
    {
     "name": "stdout",
     "output_type": "stream",
     "text": [
      "Norway: 70617\n",
      "Austria: 44857\n",
      "Israel: 38788\n"
     ]
    }
   ],
   "source": [
    "for c in root:\n",
    "    country_name=c.attrib['name']\n",
    "    gdppc = int(c[2].text)\n",
    "    print(\"{}: {}\".format(country_name,gdppc))"
   ]
  },
  {
   "cell_type": "markdown",
   "metadata": {},
   "source": [
    "### Find all the neighboring countries for each country and print them\n",
    "Note how to use `findall` and `attrib` together"
   ]
  },
  {
   "cell_type": "code",
   "execution_count": 35,
   "metadata": {},
   "outputs": [
    {
     "name": "stdout",
     "output_type": "stream",
     "text": [
      "Neighbors\n",
      "-------------------------\n",
      "Sweden\n",
      "\n",
      "\n",
      "Neighbors\n",
      "-------------------------\n",
      "Germany\n",
      "Hungary\n",
      "Italy\n",
      "Switzerland\n",
      "\n",
      "\n",
      "Neighbors\n",
      "-------------------------\n",
      "Lebanon\n",
      "Syria\n",
      "\n",
      "\n"
     ]
    }
   ],
   "source": [
    "for c in root:\n",
    "    ne=c.findall('neighbor') # Find all the neighbors\n",
    "    print(\"Neighbors\\n\"+\"-\"*25)\n",
    "    for i in ne: # Iterate over the neighbors and print their 'name' attribute\n",
    "        print(i.attrib['name'])\n",
    "    print('\\n')"
   ]
  },
  {
   "cell_type": "markdown",
   "metadata": {},
   "source": [
    "### A simple demo of using XML data obtained by web scraping"
   ]
  },
  {
   "cell_type": "code",
   "execution_count": 27,
   "metadata": {},
   "outputs": [],
   "source": [
    "import urllib.request, urllib.parse, urllib.error"
   ]
  },
  {
   "cell_type": "code",
   "execution_count": 28,
   "metadata": {},
   "outputs": [],
   "source": [
    "serviceurl = 'http://www.recipepuppy.com/api/?'"
   ]
  },
  {
   "cell_type": "code",
   "execution_count": 31,
   "metadata": {},
   "outputs": [
    {
     "name": "stdout",
     "output_type": "stream",
     "text": [
      "Enter the name of a food item (enter 'quit' to quit): chicken tikka\n"
     ]
    }
   ],
   "source": [
    "item = str(input('Enter the name of a food item (enter \\'quit\\' to quit): '))\n",
    "url = serviceurl + urllib.parse.urlencode({'q':item})+'&p=1&format=xml'\n",
    "uh = urllib.request.urlopen(url)"
   ]
  },
  {
   "cell_type": "code",
   "execution_count": 32,
   "metadata": {},
   "outputs": [
    {
     "name": "stdout",
     "output_type": "stream",
     "text": [
      "Retrieved 2611 characters\n"
     ]
    }
   ],
   "source": [
    "data = uh.read().decode()\n",
    "print('Retrieved', len(data), 'characters')\n",
    "tree3 = ET.fromstring(data)"
   ]
  },
  {
   "cell_type": "code",
   "execution_count": 33,
   "metadata": {},
   "outputs": [
    {
     "data": {
      "text/plain": [
       "xml.etree.ElementTree.Element"
      ]
     },
     "execution_count": 33,
     "metadata": {},
     "output_type": "execute_result"
    }
   ],
   "source": [
    "type(tree3)"
   ]
  },
  {
   "cell_type": "code",
   "execution_count": 34,
   "metadata": {},
   "outputs": [
    {
     "name": "stdout",
     "output_type": "stream",
     "text": [
      "\n",
      "\n",
      "\n",
      "\n",
      "Chicken Tikka Masala\n",
      "http://allrecipes.com/Recipe/Chicken-Tikka-Masala/Detail.aspx\n",
      "black pepper, chicken, butter, cayenne, cinnamon, cumin, cumin, garlic, heavy cream, jalapeno, lemon juice, paprika, salt, salt, yogurt\n",
      "\n",
      "\n",
      "Chicken Tikka With Chickpea Flour\n",
      "http://www.recipezaar.com/Chicken-Tikka-With-Chickpea-Flour-224938\n",
      "chicken, chickpea flour, chili powder, cumin, garlic, ginger, lemon juice, nutmeg, salt, turmeric\n",
      "\n",
      "\n",
      "Chicken Tikka Masala\n",
      "http://www.recipezaar.com/Chicken-Tikka-Masala-289402\n",
      "black pepper, chicken, tomato, cayenne, chicken broth, garam masala, garlic, ginger, cardamom, cinnamon, coriander, cumin, onions, paprika, yogurt, salt, tomato paste, turmeric, vegetable oil\n",
      "\n",
      "\n",
      "Chicken Tikka Masala Recipe\n",
      "http://www.grouprecipes.com/37802/chicken-tikka-masala.html\n",
      "cumin, garam masala\n",
      "\n",
      "\n",
      "Chicken Tikka Masala\n",
      "http://www.recipezaar.com/Chicken-Tikka-Masala-166811\n",
      "chicken, butter, cayenne, cilantro, ginger, black pepper, garam masala, garlic, cinnamon, cumin, cumin, heavy cream, jalapeno, lemon juice, paprika, salt, salt, tomato sauce, yogurt\n",
      "\n",
      "\n",
      "Chicken Tikka\n",
      "http://www.recipezaar.com/Chicken-Tikka-303703\n",
      "black pepper, chili powder, ginger, coriander, lemon juice, vegetable oil, yogurt, food coloring, salt, chicken drumstick, tomato paste\n",
      "\n",
      "\n",
      "Chicken Tikka\n",
      "http://www.recipezaar.com/Chicken-Tikka-111610\n",
      "butter, chicken, chili powder, garlic, ginger, coriander, onions, salt, tomato paste, yogurt\n",
      "\n",
      "\n",
      "Chicken Tikka\n",
      "http://www.epicurious.com/recipes/food/views/Chicken-Tikka-109308\n",
      "chutney, black pepper, cayenne, coriander seed, cumin, garam masala, garlic, lime juice, whole milk, salt, turmeric, vegetable oil\n",
      "\n",
      "\n",
      "Chicken Tikka Masala\n",
      "http://www.recipezaar.com/Chicken-Tikka-Masala-263097\n",
      "beans, chicken, cilantro, garam masala, rice, water, water\n",
      "\n",
      "\n",
      "Chicken Tikka Masala\n",
      "http://www.recipezaar.com/Chicken-Tikka-Masala-236996\n",
      "chicken\n"
     ]
    }
   ],
   "source": [
    "for elem in tree3.iter():\n",
    "    print(elem.text)"
   ]
  },
  {
   "cell_type": "markdown",
   "metadata": {},
   "source": [
    "### How does the raw data look like?"
   ]
  },
  {
   "cell_type": "code",
   "execution_count": 37,
   "metadata": {},
   "outputs": [
    {
     "name": "stdout",
     "output_type": "stream",
     "text": [
      "<?xml version=\"1.0\"?>\n",
      "<recipes>\n",
      "<recipe>\n",
      "<title>Chicken Tikka Masala</title>\n",
      "<href>http://allrecipes.com/Recipe/Chicken-Tikka-Masala/Detail.aspx</href>\n",
      "<ingredients>black pepper, chicken, butter, cayenne, cinnamon, cumin, cumin, garlic, heavy cream, jalapeno, lemon juice, paprika, salt, salt, yogurt</ingredients>\n",
      "</recipe>\n",
      "<recipe>\n",
      "<title>Chicken Tikka With Chickpea Flour</title>\n",
      "<href>http://www.recipezaar.com/Chicken-Tikka-With-Chickpea-Flour-224938</href>\n",
      "<ingredients>chicken, chickpea flour, chili powder, cumin, garlic, ginger, lemon juice, nutmeg, salt, turmeric</ingredients>\n",
      "</recipe>\n",
      "<recipe>\n",
      "<title>Chicken Tikka Masala</title>\n",
      "<href>http://www.recipezaar.com/Chicken-Tikka-Masala-289402</href>\n",
      "<ingredients>black pepper, chicken, tomato, cayenne, chicken broth, garam masala, garlic, ginger, cardamom, cinnamon, coriander, cumin, onions, paprika, yogurt, salt, tomato paste, turmeric, vegetable oil</ingredients>\n",
      "</recipe>\n",
      "<recipe>\n",
      "<title>Chicken Tikka Masala Recipe</title>\n",
      "<href>http://www.grouprecipes.com/37802/chicken-tikka-masala.html</href>\n",
      "<ingredients>cumin, garam masala</ingredients>\n",
      "</recipe>\n",
      "<recipe>\n",
      "<title>Chicken Tikka Masala</title>\n",
      "<href>http://www.recipezaar.com/Chicken-Tikka-Masala-166811</href>\n",
      "<ingredients>chicken, butter, cayenne, cilantro, ginger, black pepper, garam masala, garlic, cinnamon, cumin, cumin, heavy cream, jalapeno, lemon juice, paprika, salt, salt, tomato sauce, yogurt</ingredients>\n",
      "</recipe>\n",
      "<recipe>\n",
      "<title>Chicken Tikka</title>\n",
      "<href>http://www.recipezaar.com/Chicken-Tikka-303703</href>\n",
      "<ingredients>black pepper, chili powder, ginger, coriander, lemon juice, vegetable oil, yogurt, food coloring, salt, chicken drumstick, tomato paste</ingredients>\n",
      "</recipe>\n",
      "<recipe>\n",
      "<title>Chicken Tikka</title>\n",
      "<href>http://www.recipezaar.com/Chicken-Tikka-111610</href>\n",
      "<ingredients>butter, chicken, chili powder, garlic, ginger, coriander, onions, salt, tomato paste, yogurt</ingredients>\n",
      "</recipe>\n",
      "<recipe>\n",
      "<title>Chicken Tikka</title>\n",
      "<href>http://www.epicurious.com/recipes/food/views/Chicken-Tikka-109308</href>\n",
      "<ingredients>chutney, black pepper, cayenne, coriander seed, cumin, garam masala, garlic, lime juice, whole milk, salt, turmeric, vegetable oil</ingredients>\n",
      "</recipe>\n",
      "<recipe>\n",
      "<title>Chicken Tikka Masala</title>\n",
      "<href>http://www.recipezaar.com/Chicken-Tikka-Masala-263097</href>\n",
      "<ingredients>beans, chicken, cilantro, garam masala, rice, water, water</ingredients>\n",
      "</recipe>\n",
      "<recipe>\n",
      "<title>Chicken Tikka Masala</title>\n",
      "<href>http://www.recipezaar.com/Chicken-Tikka-Masala-236996</href>\n",
      "<ingredients>chicken</ingredients>\n",
      "</recipe>\n",
      "</recipes>\n"
     ]
    }
   ],
   "source": [
    "print(data)"
   ]
  },
  {
   "cell_type": "markdown",
   "metadata": {},
   "source": [
    "### How to build a simple list of all hyperlinks (receipe pages) present in the data?"
   ]
  },
  {
   "cell_type": "code",
   "execution_count": 70,
   "metadata": {},
   "outputs": [
    {
     "name": "stdout",
     "output_type": "stream",
     "text": [
      "Receipe Link for: Chicken Tikka Masala\n",
      "http://allrecipes.com/Recipe/Chicken-Tikka-Masala/Detail.aspx\n",
      "----------------------------------------------------------------------------------------------------\n",
      "Receipe Link for: Chicken Tikka With Chickpea Flour\n",
      "http://www.recipezaar.com/Chicken-Tikka-With-Chickpea-Flour-224938\n",
      "----------------------------------------------------------------------------------------------------\n",
      "Receipe Link for: Chicken Tikka Masala\n",
      "http://www.recipezaar.com/Chicken-Tikka-Masala-289402\n",
      "----------------------------------------------------------------------------------------------------\n",
      "Receipe Link for: Chicken Tikka Masala Recipe\n",
      "http://www.grouprecipes.com/37802/chicken-tikka-masala.html\n",
      "----------------------------------------------------------------------------------------------------\n",
      "Receipe Link for: Chicken Tikka Masala\n",
      "http://www.recipezaar.com/Chicken-Tikka-Masala-166811\n",
      "----------------------------------------------------------------------------------------------------\n",
      "Receipe Link for: Chicken Tikka\n",
      "http://www.recipezaar.com/Chicken-Tikka-303703\n",
      "----------------------------------------------------------------------------------------------------\n",
      "Receipe Link for: Chicken Tikka\n",
      "http://www.recipezaar.com/Chicken-Tikka-111610\n",
      "----------------------------------------------------------------------------------------------------\n",
      "Receipe Link for: Chicken Tikka\n",
      "http://www.epicurious.com/recipes/food/views/Chicken-Tikka-109308\n",
      "----------------------------------------------------------------------------------------------------\n",
      "Receipe Link for: Chicken Tikka Masala\n",
      "http://www.recipezaar.com/Chicken-Tikka-Masala-263097\n",
      "----------------------------------------------------------------------------------------------------\n",
      "Receipe Link for: Chicken Tikka Masala\n",
      "http://www.recipezaar.com/Chicken-Tikka-Masala-236996\n",
      "----------------------------------------------------------------------------------------------------\n"
     ]
    }
   ],
   "source": [
    "for e in tree3.iter():\n",
    "    h=e.find('href')\n",
    "    t=e.find('title')\n",
    "    if h!=None and t!=None:\n",
    "        print(\"Receipe Link for:\",t.text)\n",
    "        print(h.text)\n",
    "        print(\"-\"*100)"
   ]
  }
 ],
 "metadata": {
  "kernelspec": {
   "display_name": "Python 3",
   "language": "python",
   "name": "python3"
  },
  "language_info": {
   "codemirror_mode": {
    "name": "ipython",
    "version": 3
   },
   "file_extension": ".py",
   "mimetype": "text/x-python",
   "name": "python",
   "nbconvert_exporter": "python",
   "pygments_lexer": "ipython3",
   "version": "3.6.2"
  },
  "latex_envs": {
   "LaTeX_envs_menu_present": true,
   "autoclose": false,
   "autocomplete": true,
   "bibliofile": "biblio.bib",
   "cite_by": "apalike",
   "current_citInitial": 1,
   "eqLabelWithNumbers": true,
   "eqNumInitial": 1,
   "hotkeys": {
    "equation": "Ctrl-E",
    "itemize": "Ctrl-I"
   },
   "labels_anchors": false,
   "latex_user_defs": false,
   "report_style_numbering": false,
   "user_envs_cfg": false
  }
 },
 "nbformat": 4,
 "nbformat_minor": 2
}
